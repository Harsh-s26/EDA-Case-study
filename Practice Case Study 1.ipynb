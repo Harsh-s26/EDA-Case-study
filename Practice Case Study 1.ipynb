{
 "cells": [
  {
   "cell_type": "code",
   "execution_count": 2,
   "id": "a8f7d8f8",
   "metadata": {},
   "outputs": [],
   "source": [
    "import numpy as np"
   ]
  },
  {
   "cell_type": "code",
   "execution_count": 3,
   "id": "37881a12",
   "metadata": {},
   "outputs": [],
   "source": [
    "import pandas as pd"
   ]
  },
  {
   "cell_type": "code",
   "execution_count": 4,
   "id": "80453215",
   "metadata": {},
   "outputs": [],
   "source": [
    "from warnings import filterwarnings\n",
    "filterwarnings('ignore')"
   ]
  },
  {
   "cell_type": "markdown",
   "id": "e50ef44b",
   "metadata": {},
   "source": [
    "# Reading the dataset"
   ]
  },
  {
   "cell_type": "code",
   "execution_count": 5,
   "id": "fbb4d2cc",
   "metadata": {},
   "outputs": [],
   "source": [
    "df = pd.read_csv(r'C:\\Users\\jyo14\\.jupyter/Balaji Fast Food Sales.csv')"
   ]
  },
  {
   "cell_type": "code",
   "execution_count": 6,
   "id": "a3cb810b",
   "metadata": {},
   "outputs": [
    {
     "data": {
      "text/html": [
       "<div>\n",
       "<style scoped>\n",
       "    .dataframe tbody tr th:only-of-type {\n",
       "        vertical-align: middle;\n",
       "    }\n",
       "\n",
       "    .dataframe tbody tr th {\n",
       "        vertical-align: top;\n",
       "    }\n",
       "\n",
       "    .dataframe thead th {\n",
       "        text-align: right;\n",
       "    }\n",
       "</style>\n",
       "<table border=\"1\" class=\"dataframe\">\n",
       "  <thead>\n",
       "    <tr style=\"text-align: right;\">\n",
       "      <th></th>\n",
       "      <th>order_id</th>\n",
       "      <th>date</th>\n",
       "      <th>item_name</th>\n",
       "      <th>item_type</th>\n",
       "      <th>item_price</th>\n",
       "      <th>quantity</th>\n",
       "      <th>transaction_amount</th>\n",
       "      <th>transaction_type</th>\n",
       "      <th>received_by</th>\n",
       "      <th>time_of_sale</th>\n",
       "    </tr>\n",
       "  </thead>\n",
       "  <tbody>\n",
       "    <tr>\n",
       "      <th>0</th>\n",
       "      <td>1</td>\n",
       "      <td>07-03-2022</td>\n",
       "      <td>Aalopuri</td>\n",
       "      <td>Fastfood</td>\n",
       "      <td>20</td>\n",
       "      <td>13</td>\n",
       "      <td>260</td>\n",
       "      <td>NaN</td>\n",
       "      <td>Mr.</td>\n",
       "      <td>Night</td>\n",
       "    </tr>\n",
       "    <tr>\n",
       "      <th>1</th>\n",
       "      <td>2</td>\n",
       "      <td>8/23/2022</td>\n",
       "      <td>Vadapav</td>\n",
       "      <td>Fastfood</td>\n",
       "      <td>20</td>\n",
       "      <td>15</td>\n",
       "      <td>300</td>\n",
       "      <td>Cash</td>\n",
       "      <td>Mr.</td>\n",
       "      <td>Afternoon</td>\n",
       "    </tr>\n",
       "    <tr>\n",
       "      <th>2</th>\n",
       "      <td>3</td>\n",
       "      <td>11/20/2022</td>\n",
       "      <td>Vadapav</td>\n",
       "      <td>Fastfood</td>\n",
       "      <td>20</td>\n",
       "      <td>1</td>\n",
       "      <td>20</td>\n",
       "      <td>Cash</td>\n",
       "      <td>Mr.</td>\n",
       "      <td>Afternoon</td>\n",
       "    </tr>\n",
       "    <tr>\n",
       "      <th>3</th>\n",
       "      <td>4</td>\n",
       "      <td>02-03-2023</td>\n",
       "      <td>Sugarcane juice</td>\n",
       "      <td>Beverages</td>\n",
       "      <td>25</td>\n",
       "      <td>6</td>\n",
       "      <td>150</td>\n",
       "      <td>Online</td>\n",
       "      <td>Mr.</td>\n",
       "      <td>Night</td>\n",
       "    </tr>\n",
       "    <tr>\n",
       "      <th>4</th>\n",
       "      <td>5</td>\n",
       "      <td>10-02-2022</td>\n",
       "      <td>Sugarcane juice</td>\n",
       "      <td>Beverages</td>\n",
       "      <td>25</td>\n",
       "      <td>8</td>\n",
       "      <td>200</td>\n",
       "      <td>Online</td>\n",
       "      <td>Mr.</td>\n",
       "      <td>Evening</td>\n",
       "    </tr>\n",
       "    <tr>\n",
       "      <th>...</th>\n",
       "      <td>...</td>\n",
       "      <td>...</td>\n",
       "      <td>...</td>\n",
       "      <td>...</td>\n",
       "      <td>...</td>\n",
       "      <td>...</td>\n",
       "      <td>...</td>\n",
       "      <td>...</td>\n",
       "      <td>...</td>\n",
       "      <td>...</td>\n",
       "    </tr>\n",
       "    <tr>\n",
       "      <th>995</th>\n",
       "      <td>996</td>\n",
       "      <td>3/19/2023</td>\n",
       "      <td>Frankie</td>\n",
       "      <td>Fastfood</td>\n",
       "      <td>50</td>\n",
       "      <td>10</td>\n",
       "      <td>500</td>\n",
       "      <td>NaN</td>\n",
       "      <td>Mrs.</td>\n",
       "      <td>Evening</td>\n",
       "    </tr>\n",
       "    <tr>\n",
       "      <th>996</th>\n",
       "      <td>997</td>\n",
       "      <td>9/20/2022</td>\n",
       "      <td>Sandwich</td>\n",
       "      <td>Fastfood</td>\n",
       "      <td>60</td>\n",
       "      <td>7</td>\n",
       "      <td>420</td>\n",
       "      <td>NaN</td>\n",
       "      <td>Mr.</td>\n",
       "      <td>Evening</td>\n",
       "    </tr>\n",
       "    <tr>\n",
       "      <th>997</th>\n",
       "      <td>998</td>\n",
       "      <td>1/26/2023</td>\n",
       "      <td>Sandwich</td>\n",
       "      <td>Fastfood</td>\n",
       "      <td>60</td>\n",
       "      <td>13</td>\n",
       "      <td>780</td>\n",
       "      <td>NaN</td>\n",
       "      <td>Mr.</td>\n",
       "      <td>Evening</td>\n",
       "    </tr>\n",
       "    <tr>\n",
       "      <th>998</th>\n",
       "      <td>999</td>\n",
       "      <td>8/27/2022</td>\n",
       "      <td>Panipuri</td>\n",
       "      <td>Fastfood</td>\n",
       "      <td>20</td>\n",
       "      <td>5</td>\n",
       "      <td>100</td>\n",
       "      <td>NaN</td>\n",
       "      <td>Mrs.</td>\n",
       "      <td>Afternoon</td>\n",
       "    </tr>\n",
       "    <tr>\n",
       "      <th>999</th>\n",
       "      <td>1000</td>\n",
       "      <td>5/29/2022</td>\n",
       "      <td>Aalopuri</td>\n",
       "      <td>Fastfood</td>\n",
       "      <td>20</td>\n",
       "      <td>3</td>\n",
       "      <td>60</td>\n",
       "      <td>Online</td>\n",
       "      <td>Mrs.</td>\n",
       "      <td>Midnight</td>\n",
       "    </tr>\n",
       "  </tbody>\n",
       "</table>\n",
       "<p>1000 rows × 10 columns</p>\n",
       "</div>"
      ],
      "text/plain": [
       "     order_id        date        item_name  item_type  item_price  quantity  \\\n",
       "0           1  07-03-2022         Aalopuri   Fastfood          20        13   \n",
       "1           2   8/23/2022          Vadapav   Fastfood          20        15   \n",
       "2           3  11/20/2022          Vadapav   Fastfood          20         1   \n",
       "3           4  02-03-2023  Sugarcane juice  Beverages          25         6   \n",
       "4           5  10-02-2022  Sugarcane juice  Beverages          25         8   \n",
       "..        ...         ...              ...        ...         ...       ...   \n",
       "995       996   3/19/2023          Frankie   Fastfood          50        10   \n",
       "996       997   9/20/2022         Sandwich   Fastfood          60         7   \n",
       "997       998   1/26/2023         Sandwich   Fastfood          60        13   \n",
       "998       999   8/27/2022         Panipuri   Fastfood          20         5   \n",
       "999      1000   5/29/2022         Aalopuri   Fastfood          20         3   \n",
       "\n",
       "     transaction_amount transaction_type received_by time_of_sale  \n",
       "0                   260              NaN         Mr.        Night  \n",
       "1                   300             Cash         Mr.    Afternoon  \n",
       "2                    20             Cash         Mr.    Afternoon  \n",
       "3                   150           Online         Mr.        Night  \n",
       "4                   200           Online         Mr.      Evening  \n",
       "..                  ...              ...         ...          ...  \n",
       "995                 500              NaN        Mrs.      Evening  \n",
       "996                 420              NaN         Mr.      Evening  \n",
       "997                 780              NaN         Mr.      Evening  \n",
       "998                 100              NaN        Mrs.    Afternoon  \n",
       "999                  60           Online        Mrs.     Midnight  \n",
       "\n",
       "[1000 rows x 10 columns]"
      ]
     },
     "execution_count": 6,
     "metadata": {},
     "output_type": "execute_result"
    }
   ],
   "source": [
    "df"
   ]
  },
  {
   "cell_type": "markdown",
   "id": "ffc96631",
   "metadata": {},
   "source": [
    "# Understanding the dataset"
   ]
  },
  {
   "cell_type": "code",
   "execution_count": 7,
   "id": "f654f7c2",
   "metadata": {},
   "outputs": [
    {
     "name": "stdout",
     "output_type": "stream",
     "text": [
      "<class 'pandas.core.frame.DataFrame'>\n",
      "RangeIndex: 1000 entries, 0 to 999\n",
      "Data columns (total 10 columns):\n",
      " #   Column              Non-Null Count  Dtype \n",
      "---  ------              --------------  ----- \n",
      " 0   order_id            1000 non-null   int64 \n",
      " 1   date                1000 non-null   object\n",
      " 2   item_name           1000 non-null   object\n",
      " 3   item_type           1000 non-null   object\n",
      " 4   item_price          1000 non-null   int64 \n",
      " 5   quantity            1000 non-null   int64 \n",
      " 6   transaction_amount  1000 non-null   int64 \n",
      " 7   transaction_type    893 non-null    object\n",
      " 8   received_by         1000 non-null   object\n",
      " 9   time_of_sale        1000 non-null   object\n",
      "dtypes: int64(4), object(6)\n",
      "memory usage: 78.2+ KB\n"
     ]
    }
   ],
   "source": [
    "df.info()"
   ]
  },
  {
   "cell_type": "code",
   "execution_count": 8,
   "id": "f2986089",
   "metadata": {},
   "outputs": [
    {
     "name": "stdout",
     "output_type": "stream",
     "text": [
      "No.of rows : 1000 No.of columns : 10\n",
      "10000\n"
     ]
    }
   ],
   "source": [
    "print('No.of rows :',df.shape[0],'No.of columns :',df.shape[1])\n",
    "print(df.size)"
   ]
  },
  {
   "cell_type": "markdown",
   "id": "fc4367e2",
   "metadata": {},
   "source": [
    "# Check for duplicates"
   ]
  },
  {
   "cell_type": "code",
   "execution_count": 9,
   "id": "ed9ea119",
   "metadata": {},
   "outputs": [
    {
     "data": {
      "text/plain": [
       "0"
      ]
     },
     "execution_count": 9,
     "metadata": {},
     "output_type": "execute_result"
    }
   ],
   "source": [
    "df.duplicated().sum()"
   ]
  },
  {
   "cell_type": "markdown",
   "id": "90989b42",
   "metadata": {},
   "source": [
    "# Inference\n",
    "There are 1000 rows and 10 columns.\n",
    "The columns consists of order_id,date,item_name,item_type,item_price,quantity,transaction_amount,transaction_type,gender of the person who received the order and time_of_sale.\n",
    "Datatypes are int and object.\n",
    "The size of the dataset is 10000.\n",
    "There are no duplicates.\n",
    "There are some null values in the column 'transaction_type'"
   ]
  },
  {
   "cell_type": "code",
   "execution_count": 10,
   "id": "b3c01068",
   "metadata": {},
   "outputs": [
    {
     "data": {
      "text/plain": [
       "<bound method DataFrame.info of      order_id        date        item_name  item_type  item_price  quantity  \\\n",
       "0           1  07-03-2022         Aalopuri   Fastfood          20        13   \n",
       "1           2   8/23/2022          Vadapav   Fastfood          20        15   \n",
       "2           3  11/20/2022          Vadapav   Fastfood          20         1   \n",
       "3           4  02-03-2023  Sugarcane juice  Beverages          25         6   \n",
       "4           5  10-02-2022  Sugarcane juice  Beverages          25         8   \n",
       "..        ...         ...              ...        ...         ...       ...   \n",
       "995       996   3/19/2023          Frankie   Fastfood          50        10   \n",
       "996       997   9/20/2022         Sandwich   Fastfood          60         7   \n",
       "997       998   1/26/2023         Sandwich   Fastfood          60        13   \n",
       "998       999   8/27/2022         Panipuri   Fastfood          20         5   \n",
       "999      1000   5/29/2022         Aalopuri   Fastfood          20         3   \n",
       "\n",
       "     transaction_amount transaction_type received_by time_of_sale  \n",
       "0                   260              NaN         Mr.        Night  \n",
       "1                   300             Cash         Mr.    Afternoon  \n",
       "2                    20             Cash         Mr.    Afternoon  \n",
       "3                   150           Online         Mr.        Night  \n",
       "4                   200           Online         Mr.      Evening  \n",
       "..                  ...              ...         ...          ...  \n",
       "995                 500              NaN        Mrs.      Evening  \n",
       "996                 420              NaN         Mr.      Evening  \n",
       "997                 780              NaN         Mr.      Evening  \n",
       "998                 100              NaN        Mrs.    Afternoon  \n",
       "999                  60           Online        Mrs.     Midnight  \n",
       "\n",
       "[1000 rows x 10 columns]>"
      ]
     },
     "execution_count": 10,
     "metadata": {},
     "output_type": "execute_result"
    }
   ],
   "source": [
    "df.info"
   ]
  },
  {
   "cell_type": "markdown",
   "id": "d8c93367",
   "metadata": {},
   "source": [
    "# Changing datatype of date"
   ]
  },
  {
   "cell_type": "code",
   "execution_count": 11,
   "id": "a6e5df54",
   "metadata": {},
   "outputs": [],
   "source": [
    "df['date'] = df['date'].str.replace('/','-')"
   ]
  },
  {
   "cell_type": "code",
   "execution_count": 12,
   "id": "cdff6239",
   "metadata": {},
   "outputs": [],
   "source": [
    "df['date'] = pd.to_datetime(df['date'])"
   ]
  },
  {
   "cell_type": "code",
   "execution_count": 13,
   "id": "a75704c1",
   "metadata": {},
   "outputs": [
    {
     "name": "stdout",
     "output_type": "stream",
     "text": [
      "<class 'pandas.core.frame.DataFrame'>\n",
      "RangeIndex: 1000 entries, 0 to 999\n",
      "Data columns (total 10 columns):\n",
      " #   Column              Non-Null Count  Dtype         \n",
      "---  ------              --------------  -----         \n",
      " 0   order_id            1000 non-null   int64         \n",
      " 1   date                1000 non-null   datetime64[ns]\n",
      " 2   item_name           1000 non-null   object        \n",
      " 3   item_type           1000 non-null   object        \n",
      " 4   item_price          1000 non-null   int64         \n",
      " 5   quantity            1000 non-null   int64         \n",
      " 6   transaction_amount  1000 non-null   int64         \n",
      " 7   transaction_type    893 non-null    object        \n",
      " 8   received_by         1000 non-null   object        \n",
      " 9   time_of_sale        1000 non-null   object        \n",
      "dtypes: datetime64[ns](1), int64(4), object(5)\n",
      "memory usage: 78.2+ KB\n"
     ]
    }
   ],
   "source": [
    "df.info()"
   ]
  },
  {
   "cell_type": "markdown",
   "id": "f7661244",
   "metadata": {},
   "source": [
    "# Separate categorical and num columns"
   ]
  },
  {
   "cell_type": "code",
   "execution_count": 15,
   "id": "14e315f6",
   "metadata": {},
   "outputs": [],
   "source": [
    "num_col = df.select_dtypes(include=np.number).columns.to_list()\n",
    "cat_col = df.select_dtypes(include='object').columns.to_list()"
   ]
  },
  {
   "cell_type": "code",
   "execution_count": 17,
   "id": "0ef2ff02",
   "metadata": {},
   "outputs": [
    {
     "name": "stdout",
     "output_type": "stream",
     "text": [
      "The numeric columns are ['order_id', 'item_price', 'quantity', 'transaction_amount']\n"
     ]
    }
   ],
   "source": [
    "print('The numeric columns are',num_col)"
   ]
  },
  {
   "cell_type": "code",
   "execution_count": 20,
   "id": "71a7e9b5",
   "metadata": {},
   "outputs": [
    {
     "name": "stdout",
     "output_type": "stream",
     "text": [
      "The categorical columns are ['item_name', 'item_type', 'transaction_type', 'received_by', 'time_of_sale']\n"
     ]
    }
   ],
   "source": [
    "print('The categorical columns are',cat_col)"
   ]
  },
  {
   "cell_type": "code",
   "execution_count": 19,
   "id": "99e96ca6",
   "metadata": {},
   "outputs": [
    {
     "name": "stdout",
     "output_type": "stream",
     "text": [
      "The date column : date\n"
     ]
    }
   ],
   "source": [
    "print('The date column : date')"
   ]
  },
  {
   "cell_type": "markdown",
   "id": "d702fb2c",
   "metadata": {},
   "source": [
    "# Stats"
   ]
  },
  {
   "cell_type": "code",
   "execution_count": null,
   "id": "29ffc68f",
   "metadata": {},
   "outputs": [],
   "source": [
    "# Measures of Central tendency"
   ]
  },
  {
   "cell_type": "code",
   "execution_count": 22,
   "id": "669d0c07",
   "metadata": {},
   "outputs": [
    {
     "name": "stdout",
     "output_type": "stream",
     "text": [
      "The mean value of the column order_id is 500.5\n",
      "The mean value of the column item_price is 33.315\n",
      "The mean value of the column quantity is 8.162\n",
      "The mean value of the column transaction_amount is 275.23\n"
     ]
    }
   ],
   "source": [
    "for i in num_col:\n",
    "    print('The mean value of the column',i,'is',df[i].mean())"
   ]
  },
  {
   "cell_type": "code",
   "execution_count": 29,
   "id": "24209e05",
   "metadata": {},
   "outputs": [
    {
     "name": "stdout",
     "output_type": "stream",
     "text": [
      "The median value of the column order_id is 500.5\n",
      "The median value of the column item_price is 25.0\n",
      "The median value of the column quantity is 8.0\n",
      "The median value of the column transaction_amount is 240.0\n"
     ]
    }
   ],
   "source": [
    "for i in num_col:\n",
    "    print('The median value of the column',i,'is',df[i].median())"
   ]
  },
  {
   "cell_type": "code",
   "execution_count": 24,
   "id": "9329bac9",
   "metadata": {},
   "outputs": [
    {
     "name": "stdout",
     "output_type": "stream",
     "text": [
      "The mean value of the column order_id is 0         1\n",
      "1         2\n",
      "2         3\n",
      "3         4\n",
      "4         5\n",
      "       ... \n",
      "995     996\n",
      "996     997\n",
      "997     998\n",
      "998     999\n",
      "999    1000\n",
      "Name: order_id, Length: 1000, dtype: int64\n",
      "The mean value of the column item_price is 0    20\n",
      "Name: item_price, dtype: int64\n",
      "The mean value of the column quantity is 0    13\n",
      "Name: quantity, dtype: int64\n",
      "The mean value of the column transaction_amount is 0    300\n",
      "Name: transaction_amount, dtype: int64\n"
     ]
    }
   ],
   "source": [
    "for i in num_col:\n",
    "    print('The mode value of the column',i,'is',df[i].mode())"
   ]
  },
  {
   "cell_type": "code",
   "execution_count": 25,
   "id": "d4e9f90d",
   "metadata": {},
   "outputs": [
    {
     "ename": "TypeError",
     "evalue": "Could not convert AalopuriVadapavVadapavSugarcane juiceSugarcane juiceVadapavSugarcane juicePanipuriPanipuriPanipuriFrankieVadapavPanipuriFrankieAalopuriSandwichPanipuriPanipuriPanipuriCold coffeeCold coffeeSugarcane juiceSandwichSugarcane juiceSandwichSugarcane juiceCold coffeeCold coffeeSugarcane juiceFrankieCold coffeeAalopuriAalopuriFrankieVadapavCold coffeeFrankiePanipuriVadapavSandwichCold coffeeAalopuriVadapavCold coffeeSugarcane juiceVadapavSandwichSandwichFrankieVadapavFrankieSugarcane juiceAalopuriPanipuriSandwichPanipuriPanipuriVadapavVadapavCold coffeeVadapavSugarcane juiceSandwichCold coffeeAalopuriFrankieAalopuriCold coffeeVadapavCold coffeeCold coffeeFrankiePanipuriCold coffeeCold coffeeVadapavSugarcane juiceVadapavPanipuriFrankieFrankieFrankieFrankiePanipuriAalopuriAalopuriAalopuriCold coffeeAalopuriVadapavCold coffeeAalopuriCold coffeeAalopuriSugarcane juiceSandwichCold coffeeVadapavSugarcane juicePanipuriVadapavCold coffeeCold coffeeCold coffeePanipuriFrankieSandwichPanipuriCold coffeePanipuriSandwichSandwichAalopuriAalopuriAalopuriSugarcane juiceFrankieSandwichPanipuriFrankieCold coffeePanipuriCold coffeeSugarcane juiceVadapavPanipuriAalopuriVadapavPanipuriSugarcane juiceSandwichVadapavAalopuriAalopuriAalopuriAalopuriSugarcane juiceSandwichFrankieFrankieAalopuriSugarcane juiceFrankiePanipuriSandwichFrankiePanipuriSandwichSandwichCold coffeeFrankieCold coffeePanipuriVadapavSugarcane juicePanipuriFrankieAalopuriSugarcane juiceVadapavSugarcane juiceAalopuriFrankieSugarcane juiceSandwichPanipuriCold coffeeSandwichVadapavAalopuriVadapavSugarcane juiceCold coffeeAalopuriFrankiePanipuriPanipuriAalopuriSugarcane juiceVadapavCold coffeeCold coffeeSugarcane juiceCold coffeeSugarcane juiceFrankieAalopuriPanipuriVadapavCold coffeeSugarcane juiceVadapavCold coffeeVadapavSandwichSandwichPanipuriFrankieFrankieCold coffeePanipuriAalopuriVadapavCold coffeeVadapavAalopuriCold coffeeCold coffeeAalopuriSugarcane juiceAalopuriCold coffeeVadapavSugarcane juiceSugarcane juicePanipuriCold coffeeCold coffeeAalopuriSugarcane juiceSandwichSandwichPanipuriSugarcane juiceFrankieAalopuriCold coffeePanipuriPanipuriFrankieSugarcane juiceVadapavPanipuriPanipuriSandwichVadapavPanipuriVadapavFrankieSandwichSugarcane juiceCold coffeePanipuriSandwichVadapavVadapavSugarcane juiceFrankieSugarcane juiceSugarcane juiceCold coffeeVadapavSugarcane juiceCold coffeeVadapavAalopuriSandwichVadapavSandwichSugarcane juiceFrankieVadapavPanipuriSugarcane juiceVadapavFrankieVadapavCold coffeePanipuriSandwichVadapavFrankiePanipuriSugarcane juiceVadapavSugarcane juiceCold coffeeFrankieVadapavPanipuriSandwichVadapavPanipuriFrankieAalopuriVadapavAalopuriSandwichAalopuriPanipuriFrankieFrankiePanipuriAalopuriSandwichPanipuriSandwichSugarcane juiceAalopuriAalopuriPanipuriAalopuriSugarcane juiceVadapavPanipuriCold coffeeVadapavSandwichSandwichVadapavFrankieCold coffeeCold coffeeFrankieCold coffeeFrankieAalopuriAalopuriFrankieSugarcane juiceFrankieCold coffeeAalopuriSugarcane juiceAalopuriSandwichFrankieVadapavPanipuriPanipuriPanipuriAalopuriSugarcane juiceCold coffeeCold coffeeSugarcane juiceAalopuriSugarcane juiceSugarcane juiceCold coffeeFrankieVadapavSugarcane juiceCold coffeePanipuriCold coffeeFrankieVadapavPanipuriCold coffeeFrankieFrankieVadapavPanipuriCold coffeeSugarcane juiceSandwichAalopuriAalopuriCold coffeeSandwichSugarcane juiceFrankieCold coffeePanipuriSugarcane juicePanipuriCold coffeeSandwichPanipuriVadapavFrankieSugarcane juiceFrankiePanipuriFrankieSugarcane juiceVadapavCold coffeeSandwichVadapavCold coffeeAalopuriSugarcane juiceVadapavFrankieSugarcane juiceSandwichSandwichSugarcane juiceAalopuriAalopuriSugarcane juiceSandwichSandwichFrankieAalopuriPanipuriPanipuriCold coffeeSugarcane juiceFrankieCold coffeeFrankieSugarcane juiceCold coffeeSugarcane juiceVadapavAalopuriAalopuriPanipuriSugarcane juiceAalopuriCold coffeeVadapavSandwichPanipuriCold coffeeSugarcane juiceFrankieCold coffeeCold coffeeFrankieSugarcane juicePanipuriFrankieSandwichSugarcane juiceCold coffeeSandwichPanipuriPanipuriPanipuriAalopuriSandwichFrankieCold coffeeCold coffeeFrankieAalopuriAalopuriSugarcane juiceSugarcane juiceFrankieSandwichCold coffeeFrankieVadapavFrankieSugarcane juiceSugarcane juiceFrankieSandwichSandwichCold coffeeCold coffeeCold coffeeSugarcane juiceVadapavAalopuriSugarcane juiceVadapavSandwichSugarcane juiceSugarcane juicePanipuriAalopuriPanipuriSandwichVadapavPanipuriPanipuriSandwichSugarcane juiceCold coffeeAalopuriSandwichSugarcane juiceSandwichVadapavSugarcane juiceAalopuriPanipuriCold coffeeAalopuriVadapavSandwichCold coffeeFrankieCold coffeeVadapavSandwichCold coffeeCold coffeeAalopuriCold coffeeSandwichFrankieSandwichVadapavSugarcane juicePanipuriAalopuriCold coffeeFrankieCold coffeeAalopuriSandwichVadapavSandwichPanipuriPanipuriCold coffeeCold coffeeSandwichSugarcane juicePanipuriAalopuriCold coffeePanipuriPanipuriPanipuriFrankieAalopuriVadapavSandwichSugarcane juiceSugarcane juiceAalopuriPanipuriCold coffeePanipuriFrankieVadapavSandwichSugarcane juicePanipuriPanipuriPanipuriVadapavPanipuriSugarcane juiceAalopuriSandwichSandwichAalopuriCold coffeeCold coffeeSugarcane juiceCold coffeeSugarcane juiceSugarcane juicePanipuriPanipuriSandwichVadapavSandwichPanipuriCold coffeeSugarcane juicePanipuriFrankieFrankieCold coffeePanipuriFrankieCold coffeePanipuriCold coffeeSugarcane juiceSugarcane juiceSandwichFrankieAalopuriVadapavPanipuriCold coffeeFrankiePanipuriPanipuriSugarcane juiceAalopuriFrankieCold coffeeVadapavSandwichAalopuriFrankieCold coffeePanipuriSandwichSugarcane juiceSugarcane juiceFrankieFrankieCold coffeePanipuriCold coffeeFrankiePanipuriAalopuriAalopuriVadapavFrankieCold coffeeCold coffeeVadapavAalopuriAalopuriFrankieAalopuriAalopuriVadapavVadapavSandwichVadapavSugarcane juiceFrankieSugarcane juicePanipuriAalopuriPanipuriCold coffeeSandwichSandwichCold coffeeSugarcane juiceCold coffeeSugarcane juiceFrankieCold coffeePanipuriCold coffeePanipuriVadapavCold coffeeAalopuriCold coffeeVadapavSandwichVadapavCold coffeeSugarcane juicePanipuriSandwichVadapavVadapavSandwichFrankieSandwichSandwichCold coffeeFrankieVadapavSugarcane juiceSandwichCold coffeeAalopuriPanipuriSandwichFrankiePanipuriSugarcane juiceFrankieAalopuriPanipuriVadapavAalopuriSandwichPanipuriSandwichCold coffeeSandwichSugarcane juiceSandwichFrankieCold coffeeAalopuriSandwichCold coffeeFrankieAalopuriFrankieVadapavAalopuriCold coffeeVadapavFrankieVadapavVadapavSandwichFrankieSugarcane juicePanipuriPanipuriSugarcane juiceSugarcane juicePanipuriCold coffeeFrankieSugarcane juiceCold coffeePanipuriSandwichSandwichFrankiePanipuriSandwichCold coffeeSandwichAalopuriVadapavSugarcane juiceSugarcane juiceSandwichPanipuriSugarcane juiceAalopuriVadapavFrankiePanipuriVadapavCold coffeeFrankieVadapavPanipuriAalopuriVadapavSandwichFrankieFrankiePanipuriFrankieFrankiePanipuriPanipuriFrankieSandwichAalopuriAalopuriAalopuriPanipuriPanipuriFrankieAalopuriSugarcane juiceCold coffeeSandwichVadapavFrankieVadapavPanipuriSugarcane juiceSugarcane juiceAalopuriSugarcane juiceSugarcane juiceVadapavSugarcane juiceSugarcane juiceSandwichVadapavVadapavSandwichSandwichSandwichFrankieSandwichFrankieAalopuriPanipuriCold coffeeCold coffeeVadapavSandwichFrankiePanipuriFrankieSandwichSugarcane juiceAalopuriAalopuriAalopuriVadapavAalopuriSandwichAalopuriSugarcane juiceSugarcane juicePanipuriVadapavVadapavSandwichSugarcane juiceVadapavSugarcane juiceCold coffeeFrankiePanipuriCold coffeeAalopuriSandwichVadapavCold coffeeSugarcane juiceVadapavFrankiePanipuriPanipuriVadapavAalopuriPanipuriPanipuriVadapavCold coffeeSugarcane juiceAalopuriFrankieVadapavAalopuriAalopuriPanipuriPanipuriVadapavPanipuriSandwichSandwichPanipuriCold coffeeCold coffeeFrankieSugarcane juicePanipuriSugarcane juiceSugarcane juiceVadapavAalopuriCold coffeeSugarcane juiceCold coffeeVadapavPanipuriSugarcane juiceSugarcane juiceCold coffeeAalopuriPanipuriFrankieCold coffeeVadapavAalopuriSugarcane juiceCold coffeeCold coffeeVadapavAalopuriSugarcane juiceCold coffeeSandwichCold coffeeSugarcane juiceFrankieFrankieCold coffeeSugarcane juiceFrankieFrankieAalopuriPanipuriCold coffeeVadapavSandwichSugarcane juiceCold coffeeVadapavCold coffeeSugarcane juiceSandwichCold coffeeSugarcane juiceSandwichPanipuriAalopuriVadapavSugarcane juiceSugarcane juiceAalopuriVadapavVadapavSugarcane juiceCold coffeeSugarcane juiceSugarcane juiceSandwichSugarcane juiceAalopuriAalopuriFrankieAalopuriSugarcane juiceVadapavFrankieAalopuriAalopuriFrankieSandwichCold coffeeSandwichCold coffeePanipuriSandwichAalopuriFrankieSandwichCold coffeeCold coffeeVadapavPanipuriVadapavFrankieVadapavFrankieCold coffeePanipuriFrankieFrankieCold coffeeSandwichFrankieSugarcane juiceAalopuriSandwichSugarcane juiceCold coffeeSandwichPanipuriPanipuriSugarcane juiceVadapavSugarcane juiceCold coffeeFrankieVadapavAalopuriCold coffeeSandwichAalopuriSandwichPanipuriFrankiePanipuriAalopuriSandwichAalopuriSugarcane juiceFrankiePanipuriSandwichVadapavSugarcane juiceFrankieFrankieVadapavCold coffeeFrankiePanipuriCold coffeeCold coffeeCold coffeeAalopuriFrankieAalopuriSugarcane juiceVadapavAalopuriSugarcane juiceAalopuriFrankieAalopuriVadapavPanipuriSugarcane juiceCold coffeeFrankieFrankieSugarcane juiceVadapavFrankieCold coffeeVadapavSandwichSandwichFrankiePanipuriSugarcane juiceFrankieSandwichSandwichPanipuriAalopuri to numeric",
     "output_type": "error",
     "traceback": [
      "\u001b[1;31m---------------------------------------------------------------------------\u001b[0m",
      "\u001b[1;31mValueError\u001b[0m                                Traceback (most recent call last)",
      "File \u001b[1;32m~\\anaconda3\\lib\\site-packages\\pandas\\core\\nanops.py:1630\u001b[0m, in \u001b[0;36m_ensure_numeric\u001b[1;34m(x)\u001b[0m\n\u001b[0;32m   1629\u001b[0m \u001b[38;5;28;01mtry\u001b[39;00m:\n\u001b[1;32m-> 1630\u001b[0m     x \u001b[38;5;241m=\u001b[39m \u001b[38;5;28;43mfloat\u001b[39;49m\u001b[43m(\u001b[49m\u001b[43mx\u001b[49m\u001b[43m)\u001b[49m\n\u001b[0;32m   1631\u001b[0m \u001b[38;5;28;01mexcept\u001b[39;00m (\u001b[38;5;167;01mTypeError\u001b[39;00m, \u001b[38;5;167;01mValueError\u001b[39;00m):\n\u001b[0;32m   1632\u001b[0m     \u001b[38;5;66;03m# e.g. \"1+1j\" or \"foo\"\u001b[39;00m\n",
      "\u001b[1;31mValueError\u001b[0m: could not convert string to float: 'AalopuriVadapavVadapavSugarcane juiceSugarcane juiceVadapavSugarcane juicePanipuriPanipuriPanipuriFrankieVadapavPanipuriFrankieAalopuriSandwichPanipuriPanipuriPanipuriCold coffeeCold coffeeSugarcane juiceSandwichSugarcane juiceSandwichSugarcane juiceCold coffeeCold coffeeSugarcane juiceFrankieCold coffeeAalopuriAalopuriFrankieVadapavCold coffeeFrankiePanipuriVadapavSandwichCold coffeeAalopuriVadapavCold coffeeSugarcane juiceVadapavSandwichSandwichFrankieVadapavFrankieSugarcane juiceAalopuriPanipuriSandwichPanipuriPanipuriVadapavVadapavCold coffeeVadapavSugarcane juiceSandwichCold coffeeAalopuriFrankieAalopuriCold coffeeVadapavCold coffeeCold coffeeFrankiePanipuriCold coffeeCold coffeeVadapavSugarcane juiceVadapavPanipuriFrankieFrankieFrankieFrankiePanipuriAalopuriAalopuriAalopuriCold coffeeAalopuriVadapavCold coffeeAalopuriCold coffeeAalopuriSugarcane juiceSandwichCold coffeeVadapavSugarcane juicePanipuriVadapavCold coffeeCold coffeeCold coffeePanipuriFrankieSandwichPanipuriCold coffeePanipuriSandwichSandwichAalopuriAalopuriAalopuriSugarcane juiceFrankieSandwichPanipuriFrankieCold coffeePanipuriCold coffeeSugarcane juiceVadapavPanipuriAalopuriVadapavPanipuriSugarcane juiceSandwichVadapavAalopuriAalopuriAalopuriAalopuriSugarcane juiceSandwichFrankieFrankieAalopuriSugarcane juiceFrankiePanipuriSandwichFrankiePanipuriSandwichSandwichCold coffeeFrankieCold coffeePanipuriVadapavSugarcane juicePanipuriFrankieAalopuriSugarcane juiceVadapavSugarcane juiceAalopuriFrankieSugarcane juiceSandwichPanipuriCold coffeeSandwichVadapavAalopuriVadapavSugarcane juiceCold coffeeAalopuriFrankiePanipuriPanipuriAalopuriSugarcane juiceVadapavCold coffeeCold coffeeSugarcane juiceCold coffeeSugarcane juiceFrankieAalopuriPanipuriVadapavCold coffeeSugarcane juiceVadapavCold coffeeVadapavSandwichSandwichPanipuriFrankieFrankieCold coffeePanipuriAalopuriVadapavCold coffeeVadapavAalopuriCold coffeeCold coffeeAalopuriSugarcane juiceAalopuriCold coffeeVadapavSugarcane juiceSugarcane juicePanipuriCold coffeeCold coffeeAalopuriSugarcane juiceSandwichSandwichPanipuriSugarcane juiceFrankieAalopuriCold coffeePanipuriPanipuriFrankieSugarcane juiceVadapavPanipuriPanipuriSandwichVadapavPanipuriVadapavFrankieSandwichSugarcane juiceCold coffeePanipuriSandwichVadapavVadapavSugarcane juiceFrankieSugarcane juiceSugarcane juiceCold coffeeVadapavSugarcane juiceCold coffeeVadapavAalopuriSandwichVadapavSandwichSugarcane juiceFrankieVadapavPanipuriSugarcane juiceVadapavFrankieVadapavCold coffeePanipuriSandwichVadapavFrankiePanipuriSugarcane juiceVadapavSugarcane juiceCold coffeeFrankieVadapavPanipuriSandwichVadapavPanipuriFrankieAalopuriVadapavAalopuriSandwichAalopuriPanipuriFrankieFrankiePanipuriAalopuriSandwichPanipuriSandwichSugarcane juiceAalopuriAalopuriPanipuriAalopuriSugarcane juiceVadapavPanipuriCold coffeeVadapavSandwichSandwichVadapavFrankieCold coffeeCold coffeeFrankieCold coffeeFrankieAalopuriAalopuriFrankieSugarcane juiceFrankieCold coffeeAalopuriSugarcane juiceAalopuriSandwichFrankieVadapavPanipuriPanipuriPanipuriAalopuriSugarcane juiceCold coffeeCold coffeeSugarcane juiceAalopuriSugarcane juiceSugarcane juiceCold coffeeFrankieVadapavSugarcane juiceCold coffeePanipuriCold coffeeFrankieVadapavPanipuriCold coffeeFrankieFrankieVadapavPanipuriCold coffeeSugarcane juiceSandwichAalopuriAalopuriCold coffeeSandwichSugarcane juiceFrankieCold coffeePanipuriSugarcane juicePanipuriCold coffeeSandwichPanipuriVadapavFrankieSugarcane juiceFrankiePanipuriFrankieSugarcane juiceVadapavCold coffeeSandwichVadapavCold coffeeAalopuriSugarcane juiceVadapavFrankieSugarcane juiceSandwichSandwichSugarcane juiceAalopuriAalopuriSugarcane juiceSandwichSandwichFrankieAalopuriPanipuriPanipuriCold coffeeSugarcane juiceFrankieCold coffeeFrankieSugarcane juiceCold coffeeSugarcane juiceVadapavAalopuriAalopuriPanipuriSugarcane juiceAalopuriCold coffeeVadapavSandwichPanipuriCold coffeeSugarcane juiceFrankieCold coffeeCold coffeeFrankieSugarcane juicePanipuriFrankieSandwichSugarcane juiceCold coffeeSandwichPanipuriPanipuriPanipuriAalopuriSandwichFrankieCold coffeeCold coffeeFrankieAalopuriAalopuriSugarcane juiceSugarcane juiceFrankieSandwichCold coffeeFrankieVadapavFrankieSugarcane juiceSugarcane juiceFrankieSandwichSandwichCold coffeeCold coffeeCold coffeeSugarcane juiceVadapavAalopuriSugarcane juiceVadapavSandwichSugarcane juiceSugarcane juicePanipuriAalopuriPanipuriSandwichVadapavPanipuriPanipuriSandwichSugarcane juiceCold coffeeAalopuriSandwichSugarcane juiceSandwichVadapavSugarcane juiceAalopuriPanipuriCold coffeeAalopuriVadapavSandwichCold coffeeFrankieCold coffeeVadapavSandwichCold coffeeCold coffeeAalopuriCold coffeeSandwichFrankieSandwichVadapavSugarcane juicePanipuriAalopuriCold coffeeFrankieCold coffeeAalopuriSandwichVadapavSandwichPanipuriPanipuriCold coffeeCold coffeeSandwichSugarcane juicePanipuriAalopuriCold coffeePanipuriPanipuriPanipuriFrankieAalopuriVadapavSandwichSugarcane juiceSugarcane juiceAalopuriPanipuriCold coffeePanipuriFrankieVadapavSandwichSugarcane juicePanipuriPanipuriPanipuriVadapavPanipuriSugarcane juiceAalopuriSandwichSandwichAalopuriCold coffeeCold coffeeSugarcane juiceCold coffeeSugarcane juiceSugarcane juicePanipuriPanipuriSandwichVadapavSandwichPanipuriCold coffeeSugarcane juicePanipuriFrankieFrankieCold coffeePanipuriFrankieCold coffeePanipuriCold coffeeSugarcane juiceSugarcane juiceSandwichFrankieAalopuriVadapavPanipuriCold coffeeFrankiePanipuriPanipuriSugarcane juiceAalopuriFrankieCold coffeeVadapavSandwichAalopuriFrankieCold coffeePanipuriSandwichSugarcane juiceSugarcane juiceFrankieFrankieCold coffeePanipuriCold coffeeFrankiePanipuriAalopuriAalopuriVadapavFrankieCold coffeeCold coffeeVadapavAalopuriAalopuriFrankieAalopuriAalopuriVadapavVadapavSandwichVadapavSugarcane juiceFrankieSugarcane juicePanipuriAalopuriPanipuriCold coffeeSandwichSandwichCold coffeeSugarcane juiceCold coffeeSugarcane juiceFrankieCold coffeePanipuriCold coffeePanipuriVadapavCold coffeeAalopuriCold coffeeVadapavSandwichVadapavCold coffeeSugarcane juicePanipuriSandwichVadapavVadapavSandwichFrankieSandwichSandwichCold coffeeFrankieVadapavSugarcane juiceSandwichCold coffeeAalopuriPanipuriSandwichFrankiePanipuriSugarcane juiceFrankieAalopuriPanipuriVadapavAalopuriSandwichPanipuriSandwichCold coffeeSandwichSugarcane juiceSandwichFrankieCold coffeeAalopuriSandwichCold coffeeFrankieAalopuriFrankieVadapavAalopuriCold coffeeVadapavFrankieVadapavVadapavSandwichFrankieSugarcane juicePanipuriPanipuriSugarcane juiceSugarcane juicePanipuriCold coffeeFrankieSugarcane juiceCold coffeePanipuriSandwichSandwichFrankiePanipuriSandwichCold coffeeSandwichAalopuriVadapavSugarcane juiceSugarcane juiceSandwichPanipuriSugarcane juiceAalopuriVadapavFrankiePanipuriVadapavCold coffeeFrankieVadapavPanipuriAalopuriVadapavSandwichFrankieFrankiePanipuriFrankieFrankiePanipuriPanipuriFrankieSandwichAalopuriAalopuriAalopuriPanipuriPanipuriFrankieAalopuriSugarcane juiceCold coffeeSandwichVadapavFrankieVadapavPanipuriSugarcane juiceSugarcane juiceAalopuriSugarcane juiceSugarcane juiceVadapavSugarcane juiceSugarcane juiceSandwichVadapavVadapavSandwichSandwichSandwichFrankieSandwichFrankieAalopuriPanipuriCold coffeeCold coffeeVadapavSandwichFrankiePanipuriFrankieSandwichSugarcane juiceAalopuriAalopuriAalopuriVadapavAalopuriSandwichAalopuriSugarcane juiceSugarcane juicePanipuriVadapavVadapavSandwichSugarcane juiceVadapavSugarcane juiceCold coffeeFrankiePanipuriCold coffeeAalopuriSandwichVadapavCold coffeeSugarcane juiceVadapavFrankiePanipuriPanipuriVadapavAalopuriPanipuriPanipuriVadapavCold coffeeSugarcane juiceAalopuriFrankieVadapavAalopuriAalopuriPanipuriPanipuriVadapavPanipuriSandwichSandwichPanipuriCold coffeeCold coffeeFrankieSugarcane juicePanipuriSugarcane juiceSugarcane juiceVadapavAalopuriCold coffeeSugarcane juiceCold coffeeVadapavPanipuriSugarcane juiceSugarcane juiceCold coffeeAalopuriPanipuriFrankieCold coffeeVadapavAalopuriSugarcane juiceCold coffeeCold coffeeVadapavAalopuriSugarcane juiceCold coffeeSandwichCold coffeeSugarcane juiceFrankieFrankieCold coffeeSugarcane juiceFrankieFrankieAalopuriPanipuriCold coffeeVadapavSandwichSugarcane juiceCold coffeeVadapavCold coffeeSugarcane juiceSandwichCold coffeeSugarcane juiceSandwichPanipuriAalopuriVadapavSugarcane juiceSugarcane juiceAalopuriVadapavVadapavSugarcane juiceCold coffeeSugarcane juiceSugarcane juiceSandwichSugarcane juiceAalopuriAalopuriFrankieAalopuriSugarcane juiceVadapavFrankieAalopuriAalopuriFrankieSandwichCold coffeeSandwichCold coffeePanipuriSandwichAalopuriFrankieSandwichCold coffeeCold coffeeVadapavPanipuriVadapavFrankieVadapavFrankieCold coffeePanipuriFrankieFrankieCold coffeeSandwichFrankieSugarcane juiceAalopuriSandwichSugarcane juiceCold coffeeSandwichPanipuriPanipuriSugarcane juiceVadapavSugarcane juiceCold coffeeFrankieVadapavAalopuriCold coffeeSandwichAalopuriSandwichPanipuriFrankiePanipuriAalopuriSandwichAalopuriSugarcane juiceFrankiePanipuriSandwichVadapavSugarcane juiceFrankieFrankieVadapavCold coffeeFrankiePanipuriCold coffeeCold coffeeCold coffeeAalopuriFrankieAalopuriSugarcane juiceVadapavAalopuriSugarcane juiceAalopuriFrankieAalopuriVadapavPanipuriSugarcane juiceCold coffeeFrankieFrankieSugarcane juiceVadapavFrankieCold coffeeVadapavSandwichSandwichFrankiePanipuriSugarcane juiceFrankieSandwichSandwichPanipuriAalopuri'",
      "\nDuring handling of the above exception, another exception occurred:\n",
      "\u001b[1;31mValueError\u001b[0m                                Traceback (most recent call last)",
      "File \u001b[1;32m~\\anaconda3\\lib\\site-packages\\pandas\\core\\nanops.py:1634\u001b[0m, in \u001b[0;36m_ensure_numeric\u001b[1;34m(x)\u001b[0m\n\u001b[0;32m   1633\u001b[0m \u001b[38;5;28;01mtry\u001b[39;00m:\n\u001b[1;32m-> 1634\u001b[0m     x \u001b[38;5;241m=\u001b[39m \u001b[38;5;28;43mcomplex\u001b[39;49m\u001b[43m(\u001b[49m\u001b[43mx\u001b[49m\u001b[43m)\u001b[49m\n\u001b[0;32m   1635\u001b[0m \u001b[38;5;28;01mexcept\u001b[39;00m \u001b[38;5;167;01mValueError\u001b[39;00m \u001b[38;5;28;01mas\u001b[39;00m err:\n\u001b[0;32m   1636\u001b[0m     \u001b[38;5;66;03m# e.g. \"foo\"\u001b[39;00m\n",
      "\u001b[1;31mValueError\u001b[0m: complex() arg is a malformed string",
      "\nThe above exception was the direct cause of the following exception:\n",
      "\u001b[1;31mTypeError\u001b[0m                                 Traceback (most recent call last)",
      "Cell \u001b[1;32mIn[25], line 2\u001b[0m\n\u001b[0;32m      1\u001b[0m \u001b[38;5;28;01mfor\u001b[39;00m i \u001b[38;5;129;01min\u001b[39;00m cat_col:\n\u001b[1;32m----> 2\u001b[0m     \u001b[38;5;28mprint\u001b[39m(\u001b[38;5;124m'\u001b[39m\u001b[38;5;124mThe mean value of the column\u001b[39m\u001b[38;5;124m'\u001b[39m,i,\u001b[38;5;124m'\u001b[39m\u001b[38;5;124mis\u001b[39m\u001b[38;5;124m'\u001b[39m,\u001b[43mdf\u001b[49m\u001b[43m[\u001b[49m\u001b[43mi\u001b[49m\u001b[43m]\u001b[49m\u001b[38;5;241;43m.\u001b[39;49m\u001b[43mmean\u001b[49m\u001b[43m(\u001b[49m\u001b[43m)\u001b[49m)\n",
      "File \u001b[1;32m~\\anaconda3\\lib\\site-packages\\pandas\\core\\generic.py:11847\u001b[0m, in \u001b[0;36mNDFrame._add_numeric_operations.<locals>.mean\u001b[1;34m(self, axis, skipna, level, numeric_only, **kwargs)\u001b[0m\n\u001b[0;32m  11829\u001b[0m \u001b[38;5;129m@doc\u001b[39m(\n\u001b[0;32m  11830\u001b[0m     _num_doc,\n\u001b[0;32m  11831\u001b[0m     desc\u001b[38;5;241m=\u001b[39m\u001b[38;5;124m\"\u001b[39m\u001b[38;5;124mReturn the mean of the values over the requested axis.\u001b[39m\u001b[38;5;124m\"\u001b[39m,\n\u001b[1;32m   (...)\u001b[0m\n\u001b[0;32m  11845\u001b[0m     \u001b[38;5;241m*\u001b[39m\u001b[38;5;241m*\u001b[39mkwargs,\n\u001b[0;32m  11846\u001b[0m ):\n\u001b[1;32m> 11847\u001b[0m     \u001b[38;5;28;01mreturn\u001b[39;00m NDFrame\u001b[38;5;241m.\u001b[39mmean(\u001b[38;5;28mself\u001b[39m, axis, skipna, level, numeric_only, \u001b[38;5;241m*\u001b[39m\u001b[38;5;241m*\u001b[39mkwargs)\n",
      "File \u001b[1;32m~\\anaconda3\\lib\\site-packages\\pandas\\core\\generic.py:11401\u001b[0m, in \u001b[0;36mNDFrame.mean\u001b[1;34m(self, axis, skipna, level, numeric_only, **kwargs)\u001b[0m\n\u001b[0;32m  11393\u001b[0m \u001b[38;5;28;01mdef\u001b[39;00m \u001b[38;5;21mmean\u001b[39m(\n\u001b[0;32m  11394\u001b[0m     \u001b[38;5;28mself\u001b[39m,\n\u001b[0;32m  11395\u001b[0m     axis: Axis \u001b[38;5;241m|\u001b[39m \u001b[38;5;28;01mNone\u001b[39;00m \u001b[38;5;241m|\u001b[39m lib\u001b[38;5;241m.\u001b[39mNoDefault \u001b[38;5;241m=\u001b[39m lib\u001b[38;5;241m.\u001b[39mno_default,\n\u001b[1;32m   (...)\u001b[0m\n\u001b[0;32m  11399\u001b[0m     \u001b[38;5;241m*\u001b[39m\u001b[38;5;241m*\u001b[39mkwargs,\n\u001b[0;32m  11400\u001b[0m ) \u001b[38;5;241m-\u001b[39m\u001b[38;5;241m>\u001b[39m Series \u001b[38;5;241m|\u001b[39m \u001b[38;5;28mfloat\u001b[39m:\n\u001b[1;32m> 11401\u001b[0m     \u001b[38;5;28;01mreturn\u001b[39;00m \u001b[38;5;28mself\u001b[39m\u001b[38;5;241m.\u001b[39m_stat_function(\n\u001b[0;32m  11402\u001b[0m         \u001b[38;5;124m\"\u001b[39m\u001b[38;5;124mmean\u001b[39m\u001b[38;5;124m\"\u001b[39m, nanops\u001b[38;5;241m.\u001b[39mnanmean, axis, skipna, level, numeric_only, \u001b[38;5;241m*\u001b[39m\u001b[38;5;241m*\u001b[39mkwargs\n\u001b[0;32m  11403\u001b[0m     )\n",
      "File \u001b[1;32m~\\anaconda3\\lib\\site-packages\\pandas\\core\\generic.py:11353\u001b[0m, in \u001b[0;36mNDFrame._stat_function\u001b[1;34m(self, name, func, axis, skipna, level, numeric_only, **kwargs)\u001b[0m\n\u001b[0;32m  11343\u001b[0m     warnings\u001b[38;5;241m.\u001b[39mwarn(\n\u001b[0;32m  11344\u001b[0m         \u001b[38;5;124m\"\u001b[39m\u001b[38;5;124mUsing the level keyword in DataFrame and Series aggregations is \u001b[39m\u001b[38;5;124m\"\u001b[39m\n\u001b[0;32m  11345\u001b[0m         \u001b[38;5;124m\"\u001b[39m\u001b[38;5;124mdeprecated and will be removed in a future version. Use groupby \u001b[39m\u001b[38;5;124m\"\u001b[39m\n\u001b[1;32m   (...)\u001b[0m\n\u001b[0;32m  11348\u001b[0m         stacklevel\u001b[38;5;241m=\u001b[39mfind_stack_level(),\n\u001b[0;32m  11349\u001b[0m     )\n\u001b[0;32m  11350\u001b[0m     \u001b[38;5;28;01mreturn\u001b[39;00m \u001b[38;5;28mself\u001b[39m\u001b[38;5;241m.\u001b[39m_agg_by_level(\n\u001b[0;32m  11351\u001b[0m         name, axis\u001b[38;5;241m=\u001b[39maxis, level\u001b[38;5;241m=\u001b[39mlevel, skipna\u001b[38;5;241m=\u001b[39mskipna, numeric_only\u001b[38;5;241m=\u001b[39mnumeric_only\n\u001b[0;32m  11352\u001b[0m     )\n\u001b[1;32m> 11353\u001b[0m \u001b[38;5;28;01mreturn\u001b[39;00m \u001b[38;5;28;43mself\u001b[39;49m\u001b[38;5;241;43m.\u001b[39;49m\u001b[43m_reduce\u001b[49m\u001b[43m(\u001b[49m\n\u001b[0;32m  11354\u001b[0m \u001b[43m    \u001b[49m\u001b[43mfunc\u001b[49m\u001b[43m,\u001b[49m\u001b[43m \u001b[49m\u001b[43mname\u001b[49m\u001b[38;5;241;43m=\u001b[39;49m\u001b[43mname\u001b[49m\u001b[43m,\u001b[49m\u001b[43m \u001b[49m\u001b[43maxis\u001b[49m\u001b[38;5;241;43m=\u001b[39;49m\u001b[43maxis\u001b[49m\u001b[43m,\u001b[49m\u001b[43m \u001b[49m\u001b[43mskipna\u001b[49m\u001b[38;5;241;43m=\u001b[39;49m\u001b[43mskipna\u001b[49m\u001b[43m,\u001b[49m\u001b[43m \u001b[49m\u001b[43mnumeric_only\u001b[49m\u001b[38;5;241;43m=\u001b[39;49m\u001b[43mnumeric_only\u001b[49m\n\u001b[0;32m  11355\u001b[0m \u001b[43m\u001b[49m\u001b[43m)\u001b[49m\n",
      "File \u001b[1;32m~\\anaconda3\\lib\\site-packages\\pandas\\core\\series.py:4816\u001b[0m, in \u001b[0;36mSeries._reduce\u001b[1;34m(self, op, name, axis, skipna, numeric_only, filter_type, **kwds)\u001b[0m\n\u001b[0;32m   4812\u001b[0m     \u001b[38;5;28;01mraise\u001b[39;00m \u001b[38;5;167;01mNotImplementedError\u001b[39;00m(\n\u001b[0;32m   4813\u001b[0m         \u001b[38;5;124mf\u001b[39m\u001b[38;5;124m\"\u001b[39m\u001b[38;5;124mSeries.\u001b[39m\u001b[38;5;132;01m{\u001b[39;00mname\u001b[38;5;132;01m}\u001b[39;00m\u001b[38;5;124m does not implement \u001b[39m\u001b[38;5;132;01m{\u001b[39;00mkwd_name\u001b[38;5;132;01m}\u001b[39;00m\u001b[38;5;124m.\u001b[39m\u001b[38;5;124m\"\u001b[39m\n\u001b[0;32m   4814\u001b[0m     )\n\u001b[0;32m   4815\u001b[0m \u001b[38;5;28;01mwith\u001b[39;00m np\u001b[38;5;241m.\u001b[39merrstate(\u001b[38;5;28mall\u001b[39m\u001b[38;5;241m=\u001b[39m\u001b[38;5;124m\"\u001b[39m\u001b[38;5;124mignore\u001b[39m\u001b[38;5;124m\"\u001b[39m):\n\u001b[1;32m-> 4816\u001b[0m     \u001b[38;5;28;01mreturn\u001b[39;00m op(delegate, skipna\u001b[38;5;241m=\u001b[39mskipna, \u001b[38;5;241m*\u001b[39m\u001b[38;5;241m*\u001b[39mkwds)\n",
      "File \u001b[1;32m~\\anaconda3\\lib\\site-packages\\pandas\\core\\nanops.py:93\u001b[0m, in \u001b[0;36mdisallow.__call__.<locals>._f\u001b[1;34m(*args, **kwargs)\u001b[0m\n\u001b[0;32m     91\u001b[0m \u001b[38;5;28;01mtry\u001b[39;00m:\n\u001b[0;32m     92\u001b[0m     \u001b[38;5;28;01mwith\u001b[39;00m np\u001b[38;5;241m.\u001b[39merrstate(invalid\u001b[38;5;241m=\u001b[39m\u001b[38;5;124m\"\u001b[39m\u001b[38;5;124mignore\u001b[39m\u001b[38;5;124m\"\u001b[39m):\n\u001b[1;32m---> 93\u001b[0m         \u001b[38;5;28;01mreturn\u001b[39;00m f(\u001b[38;5;241m*\u001b[39margs, \u001b[38;5;241m*\u001b[39m\u001b[38;5;241m*\u001b[39mkwargs)\n\u001b[0;32m     94\u001b[0m \u001b[38;5;28;01mexcept\u001b[39;00m \u001b[38;5;167;01mValueError\u001b[39;00m \u001b[38;5;28;01mas\u001b[39;00m e:\n\u001b[0;32m     95\u001b[0m     \u001b[38;5;66;03m# we want to transform an object array\u001b[39;00m\n\u001b[0;32m     96\u001b[0m     \u001b[38;5;66;03m# ValueError message to the more typical TypeError\u001b[39;00m\n\u001b[0;32m     97\u001b[0m     \u001b[38;5;66;03m# e.g. this is normally a disallowed function on\u001b[39;00m\n\u001b[0;32m     98\u001b[0m     \u001b[38;5;66;03m# object arrays that contain strings\u001b[39;00m\n\u001b[0;32m     99\u001b[0m     \u001b[38;5;28;01mif\u001b[39;00m is_object_dtype(args[\u001b[38;5;241m0\u001b[39m]):\n",
      "File \u001b[1;32m~\\anaconda3\\lib\\site-packages\\pandas\\core\\nanops.py:155\u001b[0m, in \u001b[0;36mbottleneck_switch.__call__.<locals>.f\u001b[1;34m(values, axis, skipna, **kwds)\u001b[0m\n\u001b[0;32m    153\u001b[0m         result \u001b[38;5;241m=\u001b[39m alt(values, axis\u001b[38;5;241m=\u001b[39maxis, skipna\u001b[38;5;241m=\u001b[39mskipna, \u001b[38;5;241m*\u001b[39m\u001b[38;5;241m*\u001b[39mkwds)\n\u001b[0;32m    154\u001b[0m \u001b[38;5;28;01melse\u001b[39;00m:\n\u001b[1;32m--> 155\u001b[0m     result \u001b[38;5;241m=\u001b[39m alt(values, axis\u001b[38;5;241m=\u001b[39maxis, skipna\u001b[38;5;241m=\u001b[39mskipna, \u001b[38;5;241m*\u001b[39m\u001b[38;5;241m*\u001b[39mkwds)\n\u001b[0;32m    157\u001b[0m \u001b[38;5;28;01mreturn\u001b[39;00m result\n",
      "File \u001b[1;32m~\\anaconda3\\lib\\site-packages\\pandas\\core\\nanops.py:418\u001b[0m, in \u001b[0;36m_datetimelike_compat.<locals>.new_func\u001b[1;34m(values, axis, skipna, mask, **kwargs)\u001b[0m\n\u001b[0;32m    415\u001b[0m \u001b[38;5;28;01mif\u001b[39;00m datetimelike \u001b[38;5;129;01mand\u001b[39;00m mask \u001b[38;5;129;01mis\u001b[39;00m \u001b[38;5;28;01mNone\u001b[39;00m:\n\u001b[0;32m    416\u001b[0m     mask \u001b[38;5;241m=\u001b[39m isna(values)\n\u001b[1;32m--> 418\u001b[0m result \u001b[38;5;241m=\u001b[39m func(values, axis\u001b[38;5;241m=\u001b[39maxis, skipna\u001b[38;5;241m=\u001b[39mskipna, mask\u001b[38;5;241m=\u001b[39mmask, \u001b[38;5;241m*\u001b[39m\u001b[38;5;241m*\u001b[39mkwargs)\n\u001b[0;32m    420\u001b[0m \u001b[38;5;28;01mif\u001b[39;00m datetimelike:\n\u001b[0;32m    421\u001b[0m     result \u001b[38;5;241m=\u001b[39m _wrap_results(result, orig_values\u001b[38;5;241m.\u001b[39mdtype, fill_value\u001b[38;5;241m=\u001b[39miNaT)\n",
      "File \u001b[1;32m~\\anaconda3\\lib\\site-packages\\pandas\\core\\nanops.py:706\u001b[0m, in \u001b[0;36mnanmean\u001b[1;34m(values, axis, skipna, mask)\u001b[0m\n\u001b[0;32m    703\u001b[0m     dtype_count \u001b[38;5;241m=\u001b[39m dtype\n\u001b[0;32m    705\u001b[0m count \u001b[38;5;241m=\u001b[39m _get_counts(values\u001b[38;5;241m.\u001b[39mshape, mask, axis, dtype\u001b[38;5;241m=\u001b[39mdtype_count)\n\u001b[1;32m--> 706\u001b[0m the_sum \u001b[38;5;241m=\u001b[39m \u001b[43m_ensure_numeric\u001b[49m\u001b[43m(\u001b[49m\u001b[43mvalues\u001b[49m\u001b[38;5;241;43m.\u001b[39;49m\u001b[43msum\u001b[49m\u001b[43m(\u001b[49m\u001b[43maxis\u001b[49m\u001b[43m,\u001b[49m\u001b[43m \u001b[49m\u001b[43mdtype\u001b[49m\u001b[38;5;241;43m=\u001b[39;49m\u001b[43mdtype_sum\u001b[49m\u001b[43m)\u001b[49m\u001b[43m)\u001b[49m\n\u001b[0;32m    708\u001b[0m \u001b[38;5;28;01mif\u001b[39;00m axis \u001b[38;5;129;01mis\u001b[39;00m \u001b[38;5;129;01mnot\u001b[39;00m \u001b[38;5;28;01mNone\u001b[39;00m \u001b[38;5;129;01mand\u001b[39;00m \u001b[38;5;28mgetattr\u001b[39m(the_sum, \u001b[38;5;124m\"\u001b[39m\u001b[38;5;124mndim\u001b[39m\u001b[38;5;124m\"\u001b[39m, \u001b[38;5;28;01mFalse\u001b[39;00m):\n\u001b[0;32m    709\u001b[0m     count \u001b[38;5;241m=\u001b[39m cast(np\u001b[38;5;241m.\u001b[39mndarray, count)\n",
      "File \u001b[1;32m~\\anaconda3\\lib\\site-packages\\pandas\\core\\nanops.py:1637\u001b[0m, in \u001b[0;36m_ensure_numeric\u001b[1;34m(x)\u001b[0m\n\u001b[0;32m   1634\u001b[0m             x \u001b[38;5;241m=\u001b[39m \u001b[38;5;28mcomplex\u001b[39m(x)\n\u001b[0;32m   1635\u001b[0m         \u001b[38;5;28;01mexcept\u001b[39;00m \u001b[38;5;167;01mValueError\u001b[39;00m \u001b[38;5;28;01mas\u001b[39;00m err:\n\u001b[0;32m   1636\u001b[0m             \u001b[38;5;66;03m# e.g. \"foo\"\u001b[39;00m\n\u001b[1;32m-> 1637\u001b[0m             \u001b[38;5;28;01mraise\u001b[39;00m \u001b[38;5;167;01mTypeError\u001b[39;00m(\u001b[38;5;124mf\u001b[39m\u001b[38;5;124m\"\u001b[39m\u001b[38;5;124mCould not convert \u001b[39m\u001b[38;5;132;01m{\u001b[39;00mx\u001b[38;5;132;01m}\u001b[39;00m\u001b[38;5;124m to numeric\u001b[39m\u001b[38;5;124m\"\u001b[39m) \u001b[38;5;28;01mfrom\u001b[39;00m \u001b[38;5;21;01merr\u001b[39;00m\n\u001b[0;32m   1638\u001b[0m \u001b[38;5;28;01mreturn\u001b[39;00m x\n",
      "\u001b[1;31mTypeError\u001b[0m: Could not convert AalopuriVadapavVadapavSugarcane juiceSugarcane juiceVadapavSugarcane juicePanipuriPanipuriPanipuriFrankieVadapavPanipuriFrankieAalopuriSandwichPanipuriPanipuriPanipuriCold coffeeCold coffeeSugarcane juiceSandwichSugarcane juiceSandwichSugarcane juiceCold coffeeCold coffeeSugarcane juiceFrankieCold coffeeAalopuriAalopuriFrankieVadapavCold coffeeFrankiePanipuriVadapavSandwichCold coffeeAalopuriVadapavCold coffeeSugarcane juiceVadapavSandwichSandwichFrankieVadapavFrankieSugarcane juiceAalopuriPanipuriSandwichPanipuriPanipuriVadapavVadapavCold coffeeVadapavSugarcane juiceSandwichCold coffeeAalopuriFrankieAalopuriCold coffeeVadapavCold coffeeCold coffeeFrankiePanipuriCold coffeeCold coffeeVadapavSugarcane juiceVadapavPanipuriFrankieFrankieFrankieFrankiePanipuriAalopuriAalopuriAalopuriCold coffeeAalopuriVadapavCold coffeeAalopuriCold coffeeAalopuriSugarcane juiceSandwichCold coffeeVadapavSugarcane juicePanipuriVadapavCold coffeeCold coffeeCold coffeePanipuriFrankieSandwichPanipuriCold coffeePanipuriSandwichSandwichAalopuriAalopuriAalopuriSugarcane juiceFrankieSandwichPanipuriFrankieCold coffeePanipuriCold coffeeSugarcane juiceVadapavPanipuriAalopuriVadapavPanipuriSugarcane juiceSandwichVadapavAalopuriAalopuriAalopuriAalopuriSugarcane juiceSandwichFrankieFrankieAalopuriSugarcane juiceFrankiePanipuriSandwichFrankiePanipuriSandwichSandwichCold coffeeFrankieCold coffeePanipuriVadapavSugarcane juicePanipuriFrankieAalopuriSugarcane juiceVadapavSugarcane juiceAalopuriFrankieSugarcane juiceSandwichPanipuriCold coffeeSandwichVadapavAalopuriVadapavSugarcane juiceCold coffeeAalopuriFrankiePanipuriPanipuriAalopuriSugarcane juiceVadapavCold coffeeCold coffeeSugarcane juiceCold coffeeSugarcane juiceFrankieAalopuriPanipuriVadapavCold coffeeSugarcane juiceVadapavCold coffeeVadapavSandwichSandwichPanipuriFrankieFrankieCold coffeePanipuriAalopuriVadapavCold coffeeVadapavAalopuriCold coffeeCold coffeeAalopuriSugarcane juiceAalopuriCold coffeeVadapavSugarcane juiceSugarcane juicePanipuriCold coffeeCold coffeeAalopuriSugarcane juiceSandwichSandwichPanipuriSugarcane juiceFrankieAalopuriCold coffeePanipuriPanipuriFrankieSugarcane juiceVadapavPanipuriPanipuriSandwichVadapavPanipuriVadapavFrankieSandwichSugarcane juiceCold coffeePanipuriSandwichVadapavVadapavSugarcane juiceFrankieSugarcane juiceSugarcane juiceCold coffeeVadapavSugarcane juiceCold coffeeVadapavAalopuriSandwichVadapavSandwichSugarcane juiceFrankieVadapavPanipuriSugarcane juiceVadapavFrankieVadapavCold coffeePanipuriSandwichVadapavFrankiePanipuriSugarcane juiceVadapavSugarcane juiceCold coffeeFrankieVadapavPanipuriSandwichVadapavPanipuriFrankieAalopuriVadapavAalopuriSandwichAalopuriPanipuriFrankieFrankiePanipuriAalopuriSandwichPanipuriSandwichSugarcane juiceAalopuriAalopuriPanipuriAalopuriSugarcane juiceVadapavPanipuriCold coffeeVadapavSandwichSandwichVadapavFrankieCold coffeeCold coffeeFrankieCold coffeeFrankieAalopuriAalopuriFrankieSugarcane juiceFrankieCold coffeeAalopuriSugarcane juiceAalopuriSandwichFrankieVadapavPanipuriPanipuriPanipuriAalopuriSugarcane juiceCold coffeeCold coffeeSugarcane juiceAalopuriSugarcane juiceSugarcane juiceCold coffeeFrankieVadapavSugarcane juiceCold coffeePanipuriCold coffeeFrankieVadapavPanipuriCold coffeeFrankieFrankieVadapavPanipuriCold coffeeSugarcane juiceSandwichAalopuriAalopuriCold coffeeSandwichSugarcane juiceFrankieCold coffeePanipuriSugarcane juicePanipuriCold coffeeSandwichPanipuriVadapavFrankieSugarcane juiceFrankiePanipuriFrankieSugarcane juiceVadapavCold coffeeSandwichVadapavCold coffeeAalopuriSugarcane juiceVadapavFrankieSugarcane juiceSandwichSandwichSugarcane juiceAalopuriAalopuriSugarcane juiceSandwichSandwichFrankieAalopuriPanipuriPanipuriCold coffeeSugarcane juiceFrankieCold coffeeFrankieSugarcane juiceCold coffeeSugarcane juiceVadapavAalopuriAalopuriPanipuriSugarcane juiceAalopuriCold coffeeVadapavSandwichPanipuriCold coffeeSugarcane juiceFrankieCold coffeeCold coffeeFrankieSugarcane juicePanipuriFrankieSandwichSugarcane juiceCold coffeeSandwichPanipuriPanipuriPanipuriAalopuriSandwichFrankieCold coffeeCold coffeeFrankieAalopuriAalopuriSugarcane juiceSugarcane juiceFrankieSandwichCold coffeeFrankieVadapavFrankieSugarcane juiceSugarcane juiceFrankieSandwichSandwichCold coffeeCold coffeeCold coffeeSugarcane juiceVadapavAalopuriSugarcane juiceVadapavSandwichSugarcane juiceSugarcane juicePanipuriAalopuriPanipuriSandwichVadapavPanipuriPanipuriSandwichSugarcane juiceCold coffeeAalopuriSandwichSugarcane juiceSandwichVadapavSugarcane juiceAalopuriPanipuriCold coffeeAalopuriVadapavSandwichCold coffeeFrankieCold coffeeVadapavSandwichCold coffeeCold coffeeAalopuriCold coffeeSandwichFrankieSandwichVadapavSugarcane juicePanipuriAalopuriCold coffeeFrankieCold coffeeAalopuriSandwichVadapavSandwichPanipuriPanipuriCold coffeeCold coffeeSandwichSugarcane juicePanipuriAalopuriCold coffeePanipuriPanipuriPanipuriFrankieAalopuriVadapavSandwichSugarcane juiceSugarcane juiceAalopuriPanipuriCold coffeePanipuriFrankieVadapavSandwichSugarcane juicePanipuriPanipuriPanipuriVadapavPanipuriSugarcane juiceAalopuriSandwichSandwichAalopuriCold coffeeCold coffeeSugarcane juiceCold coffeeSugarcane juiceSugarcane juicePanipuriPanipuriSandwichVadapavSandwichPanipuriCold coffeeSugarcane juicePanipuriFrankieFrankieCold coffeePanipuriFrankieCold coffeePanipuriCold coffeeSugarcane juiceSugarcane juiceSandwichFrankieAalopuriVadapavPanipuriCold coffeeFrankiePanipuriPanipuriSugarcane juiceAalopuriFrankieCold coffeeVadapavSandwichAalopuriFrankieCold coffeePanipuriSandwichSugarcane juiceSugarcane juiceFrankieFrankieCold coffeePanipuriCold coffeeFrankiePanipuriAalopuriAalopuriVadapavFrankieCold coffeeCold coffeeVadapavAalopuriAalopuriFrankieAalopuriAalopuriVadapavVadapavSandwichVadapavSugarcane juiceFrankieSugarcane juicePanipuriAalopuriPanipuriCold coffeeSandwichSandwichCold coffeeSugarcane juiceCold coffeeSugarcane juiceFrankieCold coffeePanipuriCold coffeePanipuriVadapavCold coffeeAalopuriCold coffeeVadapavSandwichVadapavCold coffeeSugarcane juicePanipuriSandwichVadapavVadapavSandwichFrankieSandwichSandwichCold coffeeFrankieVadapavSugarcane juiceSandwichCold coffeeAalopuriPanipuriSandwichFrankiePanipuriSugarcane juiceFrankieAalopuriPanipuriVadapavAalopuriSandwichPanipuriSandwichCold coffeeSandwichSugarcane juiceSandwichFrankieCold coffeeAalopuriSandwichCold coffeeFrankieAalopuriFrankieVadapavAalopuriCold coffeeVadapavFrankieVadapavVadapavSandwichFrankieSugarcane juicePanipuriPanipuriSugarcane juiceSugarcane juicePanipuriCold coffeeFrankieSugarcane juiceCold coffeePanipuriSandwichSandwichFrankiePanipuriSandwichCold coffeeSandwichAalopuriVadapavSugarcane juiceSugarcane juiceSandwichPanipuriSugarcane juiceAalopuriVadapavFrankiePanipuriVadapavCold coffeeFrankieVadapavPanipuriAalopuriVadapavSandwichFrankieFrankiePanipuriFrankieFrankiePanipuriPanipuriFrankieSandwichAalopuriAalopuriAalopuriPanipuriPanipuriFrankieAalopuriSugarcane juiceCold coffeeSandwichVadapavFrankieVadapavPanipuriSugarcane juiceSugarcane juiceAalopuriSugarcane juiceSugarcane juiceVadapavSugarcane juiceSugarcane juiceSandwichVadapavVadapavSandwichSandwichSandwichFrankieSandwichFrankieAalopuriPanipuriCold coffeeCold coffeeVadapavSandwichFrankiePanipuriFrankieSandwichSugarcane juiceAalopuriAalopuriAalopuriVadapavAalopuriSandwichAalopuriSugarcane juiceSugarcane juicePanipuriVadapavVadapavSandwichSugarcane juiceVadapavSugarcane juiceCold coffeeFrankiePanipuriCold coffeeAalopuriSandwichVadapavCold coffeeSugarcane juiceVadapavFrankiePanipuriPanipuriVadapavAalopuriPanipuriPanipuriVadapavCold coffeeSugarcane juiceAalopuriFrankieVadapavAalopuriAalopuriPanipuriPanipuriVadapavPanipuriSandwichSandwichPanipuriCold coffeeCold coffeeFrankieSugarcane juicePanipuriSugarcane juiceSugarcane juiceVadapavAalopuriCold coffeeSugarcane juiceCold coffeeVadapavPanipuriSugarcane juiceSugarcane juiceCold coffeeAalopuriPanipuriFrankieCold coffeeVadapavAalopuriSugarcane juiceCold coffeeCold coffeeVadapavAalopuriSugarcane juiceCold coffeeSandwichCold coffeeSugarcane juiceFrankieFrankieCold coffeeSugarcane juiceFrankieFrankieAalopuriPanipuriCold coffeeVadapavSandwichSugarcane juiceCold coffeeVadapavCold coffeeSugarcane juiceSandwichCold coffeeSugarcane juiceSandwichPanipuriAalopuriVadapavSugarcane juiceSugarcane juiceAalopuriVadapavVadapavSugarcane juiceCold coffeeSugarcane juiceSugarcane juiceSandwichSugarcane juiceAalopuriAalopuriFrankieAalopuriSugarcane juiceVadapavFrankieAalopuriAalopuriFrankieSandwichCold coffeeSandwichCold coffeePanipuriSandwichAalopuriFrankieSandwichCold coffeeCold coffeeVadapavPanipuriVadapavFrankieVadapavFrankieCold coffeePanipuriFrankieFrankieCold coffeeSandwichFrankieSugarcane juiceAalopuriSandwichSugarcane juiceCold coffeeSandwichPanipuriPanipuriSugarcane juiceVadapavSugarcane juiceCold coffeeFrankieVadapavAalopuriCold coffeeSandwichAalopuriSandwichPanipuriFrankiePanipuriAalopuriSandwichAalopuriSugarcane juiceFrankiePanipuriSandwichVadapavSugarcane juiceFrankieFrankieVadapavCold coffeeFrankiePanipuriCold coffeeCold coffeeCold coffeeAalopuriFrankieAalopuriSugarcane juiceVadapavAalopuriSugarcane juiceAalopuriFrankieAalopuriVadapavPanipuriSugarcane juiceCold coffeeFrankieFrankieSugarcane juiceVadapavFrankieCold coffeeVadapavSandwichSandwichFrankiePanipuriSugarcane juiceFrankieSandwichSandwichPanipuriAalopuri to numeric"
     ]
    }
   ],
   "source": [
    "for i in cat_col:\n",
    "    print('The mean value of the column',i,'is',df[i].mean())"
   ]
  },
  {
   "cell_type": "code",
   "execution_count": 27,
   "id": "a2f6647a",
   "metadata": {},
   "outputs": [
    {
     "ename": "TypeError",
     "evalue": "could not convert string to float: 'Aalopuri'",
     "output_type": "error",
     "traceback": [
      "\u001b[1;31m---------------------------------------------------------------------------\u001b[0m",
      "\u001b[1;31mValueError\u001b[0m                                Traceback (most recent call last)",
      "File \u001b[1;32m~\\anaconda3\\lib\\site-packages\\pandas\\core\\nanops.py:760\u001b[0m, in \u001b[0;36mnanmedian\u001b[1;34m(values, axis, skipna, mask)\u001b[0m\n\u001b[0;32m    759\u001b[0m \u001b[38;5;28;01mtry\u001b[39;00m:\n\u001b[1;32m--> 760\u001b[0m     values \u001b[38;5;241m=\u001b[39m \u001b[43mvalues\u001b[49m\u001b[38;5;241;43m.\u001b[39;49m\u001b[43mastype\u001b[49m\u001b[43m(\u001b[49m\u001b[38;5;124;43m\"\u001b[39;49m\u001b[38;5;124;43mf8\u001b[39;49m\u001b[38;5;124;43m\"\u001b[39;49m\u001b[43m)\u001b[49m\n\u001b[0;32m    761\u001b[0m \u001b[38;5;28;01mexcept\u001b[39;00m \u001b[38;5;167;01mValueError\u001b[39;00m \u001b[38;5;28;01mas\u001b[39;00m err:\n\u001b[0;32m    762\u001b[0m     \u001b[38;5;66;03m# e.g. \"could not convert string to float: 'a'\"\u001b[39;00m\n",
      "\u001b[1;31mValueError\u001b[0m: could not convert string to float: 'Aalopuri'",
      "\nThe above exception was the direct cause of the following exception:\n",
      "\u001b[1;31mTypeError\u001b[0m                                 Traceback (most recent call last)",
      "Cell \u001b[1;32mIn[27], line 2\u001b[0m\n\u001b[0;32m      1\u001b[0m \u001b[38;5;28;01mfor\u001b[39;00m i \u001b[38;5;129;01min\u001b[39;00m cat_col:\n\u001b[1;32m----> 2\u001b[0m     \u001b[38;5;28mprint\u001b[39m(\u001b[38;5;124m'\u001b[39m\u001b[38;5;124mThe mean value of the column\u001b[39m\u001b[38;5;124m'\u001b[39m,i,\u001b[38;5;124m'\u001b[39m\u001b[38;5;124mis\u001b[39m\u001b[38;5;124m'\u001b[39m,\u001b[43mdf\u001b[49m\u001b[43m[\u001b[49m\u001b[43mi\u001b[49m\u001b[43m]\u001b[49m\u001b[38;5;241;43m.\u001b[39;49m\u001b[43mmedian\u001b[49m\u001b[43m(\u001b[49m\u001b[43m)\u001b[49m)\n",
      "File \u001b[1;32m~\\anaconda3\\lib\\site-packages\\pandas\\core\\generic.py:11917\u001b[0m, in \u001b[0;36mNDFrame._add_numeric_operations.<locals>.median\u001b[1;34m(self, axis, skipna, level, numeric_only, **kwargs)\u001b[0m\n\u001b[0;32m  11899\u001b[0m \u001b[38;5;129m@doc\u001b[39m(\n\u001b[0;32m  11900\u001b[0m     _num_doc,\n\u001b[0;32m  11901\u001b[0m     desc\u001b[38;5;241m=\u001b[39m\u001b[38;5;124m\"\u001b[39m\u001b[38;5;124mReturn the median of the values over the requested axis.\u001b[39m\u001b[38;5;124m\"\u001b[39m,\n\u001b[1;32m   (...)\u001b[0m\n\u001b[0;32m  11915\u001b[0m     \u001b[38;5;241m*\u001b[39m\u001b[38;5;241m*\u001b[39mkwargs,\n\u001b[0;32m  11916\u001b[0m ):\n\u001b[1;32m> 11917\u001b[0m     \u001b[38;5;28;01mreturn\u001b[39;00m NDFrame\u001b[38;5;241m.\u001b[39mmedian(\u001b[38;5;28mself\u001b[39m, axis, skipna, level, numeric_only, \u001b[38;5;241m*\u001b[39m\u001b[38;5;241m*\u001b[39mkwargs)\n",
      "File \u001b[1;32m~\\anaconda3\\lib\\site-packages\\pandas\\core\\generic.py:11413\u001b[0m, in \u001b[0;36mNDFrame.median\u001b[1;34m(self, axis, skipna, level, numeric_only, **kwargs)\u001b[0m\n\u001b[0;32m  11405\u001b[0m \u001b[38;5;28;01mdef\u001b[39;00m \u001b[38;5;21mmedian\u001b[39m(\n\u001b[0;32m  11406\u001b[0m     \u001b[38;5;28mself\u001b[39m,\n\u001b[0;32m  11407\u001b[0m     axis: Axis \u001b[38;5;241m|\u001b[39m \u001b[38;5;28;01mNone\u001b[39;00m \u001b[38;5;241m|\u001b[39m lib\u001b[38;5;241m.\u001b[39mNoDefault \u001b[38;5;241m=\u001b[39m lib\u001b[38;5;241m.\u001b[39mno_default,\n\u001b[1;32m   (...)\u001b[0m\n\u001b[0;32m  11411\u001b[0m     \u001b[38;5;241m*\u001b[39m\u001b[38;5;241m*\u001b[39mkwargs,\n\u001b[0;32m  11412\u001b[0m ) \u001b[38;5;241m-\u001b[39m\u001b[38;5;241m>\u001b[39m Series \u001b[38;5;241m|\u001b[39m \u001b[38;5;28mfloat\u001b[39m:\n\u001b[1;32m> 11413\u001b[0m     \u001b[38;5;28;01mreturn\u001b[39;00m \u001b[38;5;28mself\u001b[39m\u001b[38;5;241m.\u001b[39m_stat_function(\n\u001b[0;32m  11414\u001b[0m         \u001b[38;5;124m\"\u001b[39m\u001b[38;5;124mmedian\u001b[39m\u001b[38;5;124m\"\u001b[39m, nanops\u001b[38;5;241m.\u001b[39mnanmedian, axis, skipna, level, numeric_only, \u001b[38;5;241m*\u001b[39m\u001b[38;5;241m*\u001b[39mkwargs\n\u001b[0;32m  11415\u001b[0m     )\n",
      "File \u001b[1;32m~\\anaconda3\\lib\\site-packages\\pandas\\core\\generic.py:11353\u001b[0m, in \u001b[0;36mNDFrame._stat_function\u001b[1;34m(self, name, func, axis, skipna, level, numeric_only, **kwargs)\u001b[0m\n\u001b[0;32m  11343\u001b[0m     warnings\u001b[38;5;241m.\u001b[39mwarn(\n\u001b[0;32m  11344\u001b[0m         \u001b[38;5;124m\"\u001b[39m\u001b[38;5;124mUsing the level keyword in DataFrame and Series aggregations is \u001b[39m\u001b[38;5;124m\"\u001b[39m\n\u001b[0;32m  11345\u001b[0m         \u001b[38;5;124m\"\u001b[39m\u001b[38;5;124mdeprecated and will be removed in a future version. Use groupby \u001b[39m\u001b[38;5;124m\"\u001b[39m\n\u001b[1;32m   (...)\u001b[0m\n\u001b[0;32m  11348\u001b[0m         stacklevel\u001b[38;5;241m=\u001b[39mfind_stack_level(),\n\u001b[0;32m  11349\u001b[0m     )\n\u001b[0;32m  11350\u001b[0m     \u001b[38;5;28;01mreturn\u001b[39;00m \u001b[38;5;28mself\u001b[39m\u001b[38;5;241m.\u001b[39m_agg_by_level(\n\u001b[0;32m  11351\u001b[0m         name, axis\u001b[38;5;241m=\u001b[39maxis, level\u001b[38;5;241m=\u001b[39mlevel, skipna\u001b[38;5;241m=\u001b[39mskipna, numeric_only\u001b[38;5;241m=\u001b[39mnumeric_only\n\u001b[0;32m  11352\u001b[0m     )\n\u001b[1;32m> 11353\u001b[0m \u001b[38;5;28;01mreturn\u001b[39;00m \u001b[38;5;28;43mself\u001b[39;49m\u001b[38;5;241;43m.\u001b[39;49m\u001b[43m_reduce\u001b[49m\u001b[43m(\u001b[49m\n\u001b[0;32m  11354\u001b[0m \u001b[43m    \u001b[49m\u001b[43mfunc\u001b[49m\u001b[43m,\u001b[49m\u001b[43m \u001b[49m\u001b[43mname\u001b[49m\u001b[38;5;241;43m=\u001b[39;49m\u001b[43mname\u001b[49m\u001b[43m,\u001b[49m\u001b[43m \u001b[49m\u001b[43maxis\u001b[49m\u001b[38;5;241;43m=\u001b[39;49m\u001b[43maxis\u001b[49m\u001b[43m,\u001b[49m\u001b[43m \u001b[49m\u001b[43mskipna\u001b[49m\u001b[38;5;241;43m=\u001b[39;49m\u001b[43mskipna\u001b[49m\u001b[43m,\u001b[49m\u001b[43m \u001b[49m\u001b[43mnumeric_only\u001b[49m\u001b[38;5;241;43m=\u001b[39;49m\u001b[43mnumeric_only\u001b[49m\n\u001b[0;32m  11355\u001b[0m \u001b[43m\u001b[49m\u001b[43m)\u001b[49m\n",
      "File \u001b[1;32m~\\anaconda3\\lib\\site-packages\\pandas\\core\\series.py:4816\u001b[0m, in \u001b[0;36mSeries._reduce\u001b[1;34m(self, op, name, axis, skipna, numeric_only, filter_type, **kwds)\u001b[0m\n\u001b[0;32m   4812\u001b[0m     \u001b[38;5;28;01mraise\u001b[39;00m \u001b[38;5;167;01mNotImplementedError\u001b[39;00m(\n\u001b[0;32m   4813\u001b[0m         \u001b[38;5;124mf\u001b[39m\u001b[38;5;124m\"\u001b[39m\u001b[38;5;124mSeries.\u001b[39m\u001b[38;5;132;01m{\u001b[39;00mname\u001b[38;5;132;01m}\u001b[39;00m\u001b[38;5;124m does not implement \u001b[39m\u001b[38;5;132;01m{\u001b[39;00mkwd_name\u001b[38;5;132;01m}\u001b[39;00m\u001b[38;5;124m.\u001b[39m\u001b[38;5;124m\"\u001b[39m\n\u001b[0;32m   4814\u001b[0m     )\n\u001b[0;32m   4815\u001b[0m \u001b[38;5;28;01mwith\u001b[39;00m np\u001b[38;5;241m.\u001b[39merrstate(\u001b[38;5;28mall\u001b[39m\u001b[38;5;241m=\u001b[39m\u001b[38;5;124m\"\u001b[39m\u001b[38;5;124mignore\u001b[39m\u001b[38;5;124m\"\u001b[39m):\n\u001b[1;32m-> 4816\u001b[0m     \u001b[38;5;28;01mreturn\u001b[39;00m op(delegate, skipna\u001b[38;5;241m=\u001b[39mskipna, \u001b[38;5;241m*\u001b[39m\u001b[38;5;241m*\u001b[39mkwds)\n",
      "File \u001b[1;32m~\\anaconda3\\lib\\site-packages\\pandas\\core\\nanops.py:155\u001b[0m, in \u001b[0;36mbottleneck_switch.__call__.<locals>.f\u001b[1;34m(values, axis, skipna, **kwds)\u001b[0m\n\u001b[0;32m    153\u001b[0m         result \u001b[38;5;241m=\u001b[39m alt(values, axis\u001b[38;5;241m=\u001b[39maxis, skipna\u001b[38;5;241m=\u001b[39mskipna, \u001b[38;5;241m*\u001b[39m\u001b[38;5;241m*\u001b[39mkwds)\n\u001b[0;32m    154\u001b[0m \u001b[38;5;28;01melse\u001b[39;00m:\n\u001b[1;32m--> 155\u001b[0m     result \u001b[38;5;241m=\u001b[39m alt(values, axis\u001b[38;5;241m=\u001b[39maxis, skipna\u001b[38;5;241m=\u001b[39mskipna, \u001b[38;5;241m*\u001b[39m\u001b[38;5;241m*\u001b[39mkwds)\n\u001b[0;32m    157\u001b[0m \u001b[38;5;28;01mreturn\u001b[39;00m result\n",
      "File \u001b[1;32m~\\anaconda3\\lib\\site-packages\\pandas\\core\\nanops.py:763\u001b[0m, in \u001b[0;36mnanmedian\u001b[1;34m(values, axis, skipna, mask)\u001b[0m\n\u001b[0;32m    760\u001b[0m     values \u001b[38;5;241m=\u001b[39m values\u001b[38;5;241m.\u001b[39mastype(\u001b[38;5;124m\"\u001b[39m\u001b[38;5;124mf8\u001b[39m\u001b[38;5;124m\"\u001b[39m)\n\u001b[0;32m    761\u001b[0m \u001b[38;5;28;01mexcept\u001b[39;00m \u001b[38;5;167;01mValueError\u001b[39;00m \u001b[38;5;28;01mas\u001b[39;00m err:\n\u001b[0;32m    762\u001b[0m     \u001b[38;5;66;03m# e.g. \"could not convert string to float: 'a'\"\u001b[39;00m\n\u001b[1;32m--> 763\u001b[0m     \u001b[38;5;28;01mraise\u001b[39;00m \u001b[38;5;167;01mTypeError\u001b[39;00m(\u001b[38;5;28mstr\u001b[39m(err)) \u001b[38;5;28;01mfrom\u001b[39;00m \u001b[38;5;21;01merr\u001b[39;00m\n\u001b[0;32m    764\u001b[0m \u001b[38;5;28;01mif\u001b[39;00m mask \u001b[38;5;129;01mis\u001b[39;00m \u001b[38;5;129;01mnot\u001b[39;00m \u001b[38;5;28;01mNone\u001b[39;00m:\n\u001b[0;32m    765\u001b[0m     values[mask] \u001b[38;5;241m=\u001b[39m np\u001b[38;5;241m.\u001b[39mnan\n",
      "\u001b[1;31mTypeError\u001b[0m: could not convert string to float: 'Aalopuri'"
     ]
    }
   ],
   "source": [
    "for i in cat_col:\n",
    "    print('The mean value of the column',i,'is',df[i].median())"
   ]
  },
  {
   "cell_type": "code",
   "execution_count": 28,
   "id": "bf2fddc2",
   "metadata": {},
   "outputs": [
    {
     "name": "stdout",
     "output_type": "stream",
     "text": [
      "The mean value of the column item_name is 0    Cold coffee\n",
      "Name: item_name, dtype: object\n",
      "The mean value of the column item_type is 0    Fastfood\n",
      "Name: item_type, dtype: object\n",
      "The mean value of the column transaction_type is 0    Cash\n",
      "Name: transaction_type, dtype: object\n",
      "The mean value of the column received_by is 0    Mr.\n",
      "Name: received_by, dtype: object\n",
      "The mean value of the column time_of_sale is 0    Afternoon\n",
      "1        Night\n",
      "Name: time_of_sale, dtype: object\n"
     ]
    }
   ],
   "source": [
    "for i in cat_col:\n",
    "    print('The mode value of the column',i,'is',df[i].mode())"
   ]
  },
  {
   "cell_type": "code",
   "execution_count": null,
   "id": "4eab88c4",
   "metadata": {},
   "outputs": [],
   "source": [
    "# Measures of Dispersion"
   ]
  },
  {
   "cell_type": "code",
   "execution_count": 36,
   "id": "4fe325b1",
   "metadata": {},
   "outputs": [
    {
     "name": "stdout",
     "output_type": "stream",
     "text": [
      "The range of the column order_id is 999\n",
      "The range of the column item_price is 40\n",
      "The range of the column quantity is 14\n",
      "The range of the column transaction_amount is 880\n"
     ]
    }
   ],
   "source": [
    "for i in num_col:\n",
    "    print('The range of the column',i,'is',df[i].max()-df[i].min())"
   ]
  },
  {
   "cell_type": "code",
   "execution_count": 46,
   "id": "62fbe672",
   "metadata": {},
   "outputs": [
    {
     "data": {
      "text/plain": [
       "20"
      ]
     },
     "execution_count": 46,
     "metadata": {},
     "output_type": "execute_result"
    }
   ],
   "source": [
    "df['transaction_amount'].min()"
   ]
  },
  {
   "cell_type": "markdown",
   "id": "de41a6ce",
   "metadata": {},
   "source": [
    "# Inference"
   ]
  },
  {
   "cell_type": "markdown",
   "id": "74409fa0",
   "metadata": {},
   "source": [
    "1) Item price ranges from 20 to 60 rupees\n",
    "2) Minimum quantity ordered is 1 and the maximum is 15\n"
   ]
  },
  {
   "cell_type": "code",
   "execution_count": null,
   "id": "c9ed9114",
   "metadata": {},
   "outputs": [],
   "source": []
  },
  {
   "cell_type": "code",
   "execution_count": 35,
   "id": "05b956bf",
   "metadata": {},
   "outputs": [
    {
     "name": "stdout",
     "output_type": "stream",
     "text": [
      "The variance of the column order_id is 83416.66666666667\n",
      "The variance of the column item_price is 222.65843343343138\n",
      "The variance of the column quantity is 19.475231231231273\n",
      "The variance of the column transaction_amount is 41780.57767767783\n"
     ]
    }
   ],
   "source": [
    "for i in num_col:\n",
    "    print('The variance of the column',i,'is',df[i].var())"
   ]
  },
  {
   "cell_type": "code",
   "execution_count": 37,
   "id": "27979d00",
   "metadata": {},
   "outputs": [
    {
     "name": "stdout",
     "output_type": "stream",
     "text": [
      "The std.dev of the column order_id is 288.8194360957494\n",
      "The std.dev of the column item_price is 14.921743645882387\n",
      "The std.dev of the column quantity is 4.413075031226104\n",
      "The std.dev of the column transaction_amount is 204.4029786418922\n"
     ]
    }
   ],
   "source": [
    "for i in num_col:\n",
    "    print('The std.dev of the column',i,'is',df[i].std())"
   ]
  },
  {
   "cell_type": "code",
   "execution_count": 47,
   "id": "aaccf04b",
   "metadata": {},
   "outputs": [
    {
     "name": "stdout",
     "output_type": "stream",
     "text": [
      "The inter quartile range of the column order_id is 499.5\n",
      "The inter quartile range of the column item_price is 30.0\n",
      "The inter quartile range of the column quantity is 8.0\n",
      "The inter quartile range of the column transaction_amount is 240.0\n"
     ]
    }
   ],
   "source": [
    "for i in num_col:\n",
    "    print('The inter quartile range of the column',i,'is',df[i].quantile(0.75)-df[i].quantile(0.25))"
   ]
  },
  {
   "cell_type": "code",
   "execution_count": 49,
   "id": "6373da6f",
   "metadata": {},
   "outputs": [
    {
     "data": {
      "text/html": [
       "<div>\n",
       "<style scoped>\n",
       "    .dataframe tbody tr th:only-of-type {\n",
       "        vertical-align: middle;\n",
       "    }\n",
       "\n",
       "    .dataframe tbody tr th {\n",
       "        vertical-align: top;\n",
       "    }\n",
       "\n",
       "    .dataframe thead th {\n",
       "        text-align: right;\n",
       "    }\n",
       "</style>\n",
       "<table border=\"1\" class=\"dataframe\">\n",
       "  <thead>\n",
       "    <tr style=\"text-align: right;\">\n",
       "      <th></th>\n",
       "      <th>order_id</th>\n",
       "      <th>item_price</th>\n",
       "      <th>quantity</th>\n",
       "      <th>transaction_amount</th>\n",
       "    </tr>\n",
       "  </thead>\n",
       "  <tbody>\n",
       "    <tr>\n",
       "      <th>count</th>\n",
       "      <td>1000.000000</td>\n",
       "      <td>1000.000000</td>\n",
       "      <td>1000.000000</td>\n",
       "      <td>1000.000000</td>\n",
       "    </tr>\n",
       "    <tr>\n",
       "      <th>mean</th>\n",
       "      <td>500.500000</td>\n",
       "      <td>33.315000</td>\n",
       "      <td>8.162000</td>\n",
       "      <td>275.230000</td>\n",
       "    </tr>\n",
       "    <tr>\n",
       "      <th>std</th>\n",
       "      <td>288.819436</td>\n",
       "      <td>14.921744</td>\n",
       "      <td>4.413075</td>\n",
       "      <td>204.402979</td>\n",
       "    </tr>\n",
       "    <tr>\n",
       "      <th>min</th>\n",
       "      <td>1.000000</td>\n",
       "      <td>20.000000</td>\n",
       "      <td>1.000000</td>\n",
       "      <td>20.000000</td>\n",
       "    </tr>\n",
       "    <tr>\n",
       "      <th>25%</th>\n",
       "      <td>250.750000</td>\n",
       "      <td>20.000000</td>\n",
       "      <td>4.000000</td>\n",
       "      <td>120.000000</td>\n",
       "    </tr>\n",
       "    <tr>\n",
       "      <th>50%</th>\n",
       "      <td>500.500000</td>\n",
       "      <td>25.000000</td>\n",
       "      <td>8.000000</td>\n",
       "      <td>240.000000</td>\n",
       "    </tr>\n",
       "    <tr>\n",
       "      <th>75%</th>\n",
       "      <td>750.250000</td>\n",
       "      <td>50.000000</td>\n",
       "      <td>12.000000</td>\n",
       "      <td>360.000000</td>\n",
       "    </tr>\n",
       "    <tr>\n",
       "      <th>max</th>\n",
       "      <td>1000.000000</td>\n",
       "      <td>60.000000</td>\n",
       "      <td>15.000000</td>\n",
       "      <td>900.000000</td>\n",
       "    </tr>\n",
       "  </tbody>\n",
       "</table>\n",
       "</div>"
      ],
      "text/plain": [
       "          order_id   item_price     quantity  transaction_amount\n",
       "count  1000.000000  1000.000000  1000.000000         1000.000000\n",
       "mean    500.500000    33.315000     8.162000          275.230000\n",
       "std     288.819436    14.921744     4.413075          204.402979\n",
       "min       1.000000    20.000000     1.000000           20.000000\n",
       "25%     250.750000    20.000000     4.000000          120.000000\n",
       "50%     500.500000    25.000000     8.000000          240.000000\n",
       "75%     750.250000    50.000000    12.000000          360.000000\n",
       "max    1000.000000    60.000000    15.000000          900.000000"
      ]
     },
     "execution_count": 49,
     "metadata": {},
     "output_type": "execute_result"
    }
   ],
   "source": [
    "df.describe()"
   ]
  },
  {
   "cell_type": "code",
   "execution_count": 52,
   "id": "b47347a7",
   "metadata": {},
   "outputs": [
    {
     "data": {
      "text/html": [
       "<div>\n",
       "<style scoped>\n",
       "    .dataframe tbody tr th:only-of-type {\n",
       "        vertical-align: middle;\n",
       "    }\n",
       "\n",
       "    .dataframe tbody tr th {\n",
       "        vertical-align: top;\n",
       "    }\n",
       "\n",
       "    .dataframe thead th {\n",
       "        text-align: right;\n",
       "    }\n",
       "</style>\n",
       "<table border=\"1\" class=\"dataframe\">\n",
       "  <thead>\n",
       "    <tr style=\"text-align: right;\">\n",
       "      <th></th>\n",
       "      <th>order_id</th>\n",
       "      <th>date</th>\n",
       "      <th>item_name</th>\n",
       "      <th>item_type</th>\n",
       "      <th>item_price</th>\n",
       "      <th>quantity</th>\n",
       "      <th>transaction_amount</th>\n",
       "      <th>transaction_type</th>\n",
       "      <th>received_by</th>\n",
       "      <th>time_of_sale</th>\n",
       "    </tr>\n",
       "  </thead>\n",
       "  <tbody>\n",
       "    <tr>\n",
       "      <th>count</th>\n",
       "      <td>1000.000000</td>\n",
       "      <td>1000</td>\n",
       "      <td>1000</td>\n",
       "      <td>1000</td>\n",
       "      <td>1000.000000</td>\n",
       "      <td>1000.000000</td>\n",
       "      <td>1000.000000</td>\n",
       "      <td>893</td>\n",
       "      <td>1000</td>\n",
       "      <td>1000</td>\n",
       "    </tr>\n",
       "    <tr>\n",
       "      <th>unique</th>\n",
       "      <td>NaN</td>\n",
       "      <td>348</td>\n",
       "      <td>7</td>\n",
       "      <td>2</td>\n",
       "      <td>NaN</td>\n",
       "      <td>NaN</td>\n",
       "      <td>NaN</td>\n",
       "      <td>2</td>\n",
       "      <td>2</td>\n",
       "      <td>5</td>\n",
       "    </tr>\n",
       "    <tr>\n",
       "      <th>top</th>\n",
       "      <td>NaN</td>\n",
       "      <td>2022-10-11 00:00:00</td>\n",
       "      <td>Cold coffee</td>\n",
       "      <td>Fastfood</td>\n",
       "      <td>NaN</td>\n",
       "      <td>NaN</td>\n",
       "      <td>NaN</td>\n",
       "      <td>Cash</td>\n",
       "      <td>Mr.</td>\n",
       "      <td>Night</td>\n",
       "    </tr>\n",
       "    <tr>\n",
       "      <th>freq</th>\n",
       "      <td>NaN</td>\n",
       "      <td>8</td>\n",
       "      <td>161</td>\n",
       "      <td>686</td>\n",
       "      <td>NaN</td>\n",
       "      <td>NaN</td>\n",
       "      <td>NaN</td>\n",
       "      <td>476</td>\n",
       "      <td>512</td>\n",
       "      <td>205</td>\n",
       "    </tr>\n",
       "    <tr>\n",
       "      <th>first</th>\n",
       "      <td>NaN</td>\n",
       "      <td>2022-04-01 00:00:00</td>\n",
       "      <td>NaN</td>\n",
       "      <td>NaN</td>\n",
       "      <td>NaN</td>\n",
       "      <td>NaN</td>\n",
       "      <td>NaN</td>\n",
       "      <td>NaN</td>\n",
       "      <td>NaN</td>\n",
       "      <td>NaN</td>\n",
       "    </tr>\n",
       "    <tr>\n",
       "      <th>last</th>\n",
       "      <td>NaN</td>\n",
       "      <td>2023-03-30 00:00:00</td>\n",
       "      <td>NaN</td>\n",
       "      <td>NaN</td>\n",
       "      <td>NaN</td>\n",
       "      <td>NaN</td>\n",
       "      <td>NaN</td>\n",
       "      <td>NaN</td>\n",
       "      <td>NaN</td>\n",
       "      <td>NaN</td>\n",
       "    </tr>\n",
       "    <tr>\n",
       "      <th>mean</th>\n",
       "      <td>500.500000</td>\n",
       "      <td>NaN</td>\n",
       "      <td>NaN</td>\n",
       "      <td>NaN</td>\n",
       "      <td>33.315000</td>\n",
       "      <td>8.162000</td>\n",
       "      <td>275.230000</td>\n",
       "      <td>NaN</td>\n",
       "      <td>NaN</td>\n",
       "      <td>NaN</td>\n",
       "    </tr>\n",
       "    <tr>\n",
       "      <th>std</th>\n",
       "      <td>288.819436</td>\n",
       "      <td>NaN</td>\n",
       "      <td>NaN</td>\n",
       "      <td>NaN</td>\n",
       "      <td>14.921744</td>\n",
       "      <td>4.413075</td>\n",
       "      <td>204.402979</td>\n",
       "      <td>NaN</td>\n",
       "      <td>NaN</td>\n",
       "      <td>NaN</td>\n",
       "    </tr>\n",
       "    <tr>\n",
       "      <th>min</th>\n",
       "      <td>1.000000</td>\n",
       "      <td>NaN</td>\n",
       "      <td>NaN</td>\n",
       "      <td>NaN</td>\n",
       "      <td>20.000000</td>\n",
       "      <td>1.000000</td>\n",
       "      <td>20.000000</td>\n",
       "      <td>NaN</td>\n",
       "      <td>NaN</td>\n",
       "      <td>NaN</td>\n",
       "    </tr>\n",
       "    <tr>\n",
       "      <th>20%</th>\n",
       "      <td>200.800000</td>\n",
       "      <td>NaN</td>\n",
       "      <td>NaN</td>\n",
       "      <td>NaN</td>\n",
       "      <td>20.000000</td>\n",
       "      <td>3.000000</td>\n",
       "      <td>100.000000</td>\n",
       "      <td>NaN</td>\n",
       "      <td>NaN</td>\n",
       "      <td>NaN</td>\n",
       "    </tr>\n",
       "    <tr>\n",
       "      <th>50%</th>\n",
       "      <td>500.500000</td>\n",
       "      <td>NaN</td>\n",
       "      <td>NaN</td>\n",
       "      <td>NaN</td>\n",
       "      <td>25.000000</td>\n",
       "      <td>8.000000</td>\n",
       "      <td>240.000000</td>\n",
       "      <td>NaN</td>\n",
       "      <td>NaN</td>\n",
       "      <td>NaN</td>\n",
       "    </tr>\n",
       "    <tr>\n",
       "      <th>60%</th>\n",
       "      <td>600.400000</td>\n",
       "      <td>NaN</td>\n",
       "      <td>NaN</td>\n",
       "      <td>NaN</td>\n",
       "      <td>40.000000</td>\n",
       "      <td>10.000000</td>\n",
       "      <td>280.000000</td>\n",
       "      <td>NaN</td>\n",
       "      <td>NaN</td>\n",
       "      <td>NaN</td>\n",
       "    </tr>\n",
       "    <tr>\n",
       "      <th>80%</th>\n",
       "      <td>800.200000</td>\n",
       "      <td>NaN</td>\n",
       "      <td>NaN</td>\n",
       "      <td>NaN</td>\n",
       "      <td>50.000000</td>\n",
       "      <td>13.000000</td>\n",
       "      <td>420.000000</td>\n",
       "      <td>NaN</td>\n",
       "      <td>NaN</td>\n",
       "      <td>NaN</td>\n",
       "    </tr>\n",
       "    <tr>\n",
       "      <th>max</th>\n",
       "      <td>1000.000000</td>\n",
       "      <td>NaN</td>\n",
       "      <td>NaN</td>\n",
       "      <td>NaN</td>\n",
       "      <td>60.000000</td>\n",
       "      <td>15.000000</td>\n",
       "      <td>900.000000</td>\n",
       "      <td>NaN</td>\n",
       "      <td>NaN</td>\n",
       "      <td>NaN</td>\n",
       "    </tr>\n",
       "  </tbody>\n",
       "</table>\n",
       "</div>"
      ],
      "text/plain": [
       "           order_id                 date    item_name item_type   item_price  \\\n",
       "count   1000.000000                 1000         1000      1000  1000.000000   \n",
       "unique          NaN                  348            7         2          NaN   \n",
       "top             NaN  2022-10-11 00:00:00  Cold coffee  Fastfood          NaN   \n",
       "freq            NaN                    8          161       686          NaN   \n",
       "first           NaN  2022-04-01 00:00:00          NaN       NaN          NaN   \n",
       "last            NaN  2023-03-30 00:00:00          NaN       NaN          NaN   \n",
       "mean     500.500000                  NaN          NaN       NaN    33.315000   \n",
       "std      288.819436                  NaN          NaN       NaN    14.921744   \n",
       "min        1.000000                  NaN          NaN       NaN    20.000000   \n",
       "20%      200.800000                  NaN          NaN       NaN    20.000000   \n",
       "50%      500.500000                  NaN          NaN       NaN    25.000000   \n",
       "60%      600.400000                  NaN          NaN       NaN    40.000000   \n",
       "80%      800.200000                  NaN          NaN       NaN    50.000000   \n",
       "max     1000.000000                  NaN          NaN       NaN    60.000000   \n",
       "\n",
       "           quantity  transaction_amount transaction_type received_by  \\\n",
       "count   1000.000000         1000.000000              893        1000   \n",
       "unique          NaN                 NaN                2           2   \n",
       "top             NaN                 NaN             Cash         Mr.   \n",
       "freq            NaN                 NaN              476         512   \n",
       "first           NaN                 NaN              NaN         NaN   \n",
       "last            NaN                 NaN              NaN         NaN   \n",
       "mean       8.162000          275.230000              NaN         NaN   \n",
       "std        4.413075          204.402979              NaN         NaN   \n",
       "min        1.000000           20.000000              NaN         NaN   \n",
       "20%        3.000000          100.000000              NaN         NaN   \n",
       "50%        8.000000          240.000000              NaN         NaN   \n",
       "60%       10.000000          280.000000              NaN         NaN   \n",
       "80%       13.000000          420.000000              NaN         NaN   \n",
       "max       15.000000          900.000000              NaN         NaN   \n",
       "\n",
       "       time_of_sale  \n",
       "count          1000  \n",
       "unique            5  \n",
       "top           Night  \n",
       "freq            205  \n",
       "first           NaN  \n",
       "last            NaN  \n",
       "mean            NaN  \n",
       "std             NaN  \n",
       "min             NaN  \n",
       "20%             NaN  \n",
       "50%             NaN  \n",
       "60%             NaN  \n",
       "80%             NaN  \n",
       "max             NaN  "
      ]
     },
     "execution_count": 52,
     "metadata": {},
     "output_type": "execute_result"
    }
   ],
   "source": [
    "df.describe(include='all',percentiles=[0.2,0.6,0.8])"
   ]
  },
  {
   "cell_type": "markdown",
   "id": "f2cb375b",
   "metadata": {},
   "source": [
    "# Measure of Shape"
   ]
  },
  {
   "cell_type": "code",
   "execution_count": 53,
   "id": "07142b63",
   "metadata": {},
   "outputs": [
    {
     "name": "stdout",
     "output_type": "stream",
     "text": [
      "The skew value of the column order_id is 0.0\n",
      "The skew value of the column item_price is 0.6250044803515558\n",
      "The skew value of the column quantity is -0.05129947454908782\n",
      "The skew value of the column transaction_amount is 1.052643178230624\n"
     ]
    }
   ],
   "source": [
    "# Skewness\n",
    "for i in num_col:\n",
    "    print('The skew value of the column',i,'is',df[i].skew())"
   ]
  },
  {
   "cell_type": "markdown",
   "id": "aa34528a",
   "metadata": {},
   "source": [
    "# Inference\n",
    "1) Order_id column is zero skewed i.e. values are equally distributed.\n",
    "2) Columns item_price and transaction_amount are positively skewed.\n",
    "3) Quantity column is negatively skewed."
   ]
  },
  {
   "cell_type": "code",
   "execution_count": 54,
   "id": "54628709",
   "metadata": {},
   "outputs": [
    {
     "name": "stdout",
     "output_type": "stream",
     "text": [
      "The kurtosis value of the column order_id is -1.2\n",
      "The kurtosis value of the column item_price is -1.173262217524134\n",
      "The kurtosis value of the column quantity is -1.2416861155903576\n",
      "The kurtosis value of the column transaction_amount is 0.6554065709917558\n"
     ]
    }
   ],
   "source": [
    "# Kurtosis\n",
    "for i in num_col:\n",
    "    print('The kurtosis value of the column',i,'is',df[i].kurt())"
   ]
  },
  {
   "cell_type": "markdown",
   "id": "5778a42f",
   "metadata": {},
   "source": [
    "# Inference\n",
    "1) The columns item_price,quantity,transaction_amount are platy-kurtic.\n"
   ]
  },
  {
   "cell_type": "code",
   "execution_count": null,
   "id": "00cd31a7",
   "metadata": {},
   "outputs": [],
   "source": [
    "# Understanding cat_col"
   ]
  },
  {
   "cell_type": "code",
   "execution_count": 59,
   "id": "93ba6cca",
   "metadata": {},
   "outputs": [
    {
     "name": "stdout",
     "output_type": "stream",
     "text": [
      "The unique values of the column item_name is Cold coffee        16.1\n",
      "Sugarcane juice    15.3\n",
      "Panipuri           15.0\n",
      "Frankie            13.9\n",
      "Aalopuri           13.4\n",
      "Vadapav            13.4\n",
      "Sandwich           12.9\n",
      "Name: item_name, dtype: float64\n",
      "\n",
      "*****\n",
      "The unique values of the column item_type is Fastfood     68.6\n",
      "Beverages    31.4\n",
      "Name: item_type, dtype: float64\n",
      "\n",
      "*****\n",
      "The unique values of the column transaction_type is Cash      53.303471\n",
      "Online    46.696529\n",
      "Name: transaction_type, dtype: float64\n",
      "\n",
      "*****\n",
      "The unique values of the column received_by is Mr.     51.2\n",
      "Mrs.    48.8\n",
      "Name: received_by, dtype: float64\n",
      "\n",
      "*****\n",
      "The unique values of the column time_of_sale is Night        20.5\n",
      "Afternoon    20.5\n",
      "Evening      20.1\n",
      "Midnight     19.9\n",
      "Morning      19.0\n",
      "Name: time_of_sale, dtype: float64\n",
      "\n",
      "*****\n"
     ]
    }
   ],
   "source": [
    "for i in cat_col:\n",
    "    print('The unique values of the column',i,'is',df[i].value_counts(normalize=True)*100)\n",
    "    print()\n",
    "    print('*****')"
   ]
  },
  {
   "cell_type": "markdown",
   "id": "b5a2dcde",
   "metadata": {},
   "source": [
    "# Inference\n",
    "1) Cold coffee is frequently ordered.\n",
    "2) Fastfood is the most frequently ordered item_type.\n",
    "3) Cash is the most preferred mode of transaction_type.\n",
    "4) Male cashier receives most number of orders.\n",
    "5) Most number of sale happens during night time."
   ]
  },
  {
   "cell_type": "code",
   "execution_count": null,
   "id": "aaa40970",
   "metadata": {},
   "outputs": [],
   "source": [
    "# Correlation and Covariance"
   ]
  },
  {
   "cell_type": "code",
   "execution_count": 60,
   "id": "f898ff75",
   "metadata": {},
   "outputs": [
    {
     "data": {
      "text/html": [
       "<div>\n",
       "<style scoped>\n",
       "    .dataframe tbody tr th:only-of-type {\n",
       "        vertical-align: middle;\n",
       "    }\n",
       "\n",
       "    .dataframe tbody tr th {\n",
       "        vertical-align: top;\n",
       "    }\n",
       "\n",
       "    .dataframe thead th {\n",
       "        text-align: right;\n",
       "    }\n",
       "</style>\n",
       "<table border=\"1\" class=\"dataframe\">\n",
       "  <thead>\n",
       "    <tr style=\"text-align: right;\">\n",
       "      <th></th>\n",
       "      <th>order_id</th>\n",
       "      <th>item_price</th>\n",
       "      <th>quantity</th>\n",
       "      <th>transaction_amount</th>\n",
       "    </tr>\n",
       "  </thead>\n",
       "  <tbody>\n",
       "    <tr>\n",
       "      <th>order_id</th>\n",
       "      <td>1.000000</td>\n",
       "      <td>0.037028</td>\n",
       "      <td>0.010345</td>\n",
       "      <td>0.043970</td>\n",
       "    </tr>\n",
       "    <tr>\n",
       "      <th>item_price</th>\n",
       "      <td>0.037028</td>\n",
       "      <td>1.000000</td>\n",
       "      <td>0.050361</td>\n",
       "      <td>0.637238</td>\n",
       "    </tr>\n",
       "    <tr>\n",
       "      <th>quantity</th>\n",
       "      <td>0.010345</td>\n",
       "      <td>0.050361</td>\n",
       "      <td>1.000000</td>\n",
       "      <td>0.731806</td>\n",
       "    </tr>\n",
       "    <tr>\n",
       "      <th>transaction_amount</th>\n",
       "      <td>0.043970</td>\n",
       "      <td>0.637238</td>\n",
       "      <td>0.731806</td>\n",
       "      <td>1.000000</td>\n",
       "    </tr>\n",
       "  </tbody>\n",
       "</table>\n",
       "</div>"
      ],
      "text/plain": [
       "                    order_id  item_price  quantity  transaction_amount\n",
       "order_id            1.000000    0.037028  0.010345            0.043970\n",
       "item_price          0.037028    1.000000  0.050361            0.637238\n",
       "quantity            0.010345    0.050361  1.000000            0.731806\n",
       "transaction_amount  0.043970    0.637238  0.731806            1.000000"
      ]
     },
     "execution_count": 60,
     "metadata": {},
     "output_type": "execute_result"
    }
   ],
   "source": [
    "df[num_col].corr()"
   ]
  },
  {
   "cell_type": "markdown",
   "id": "129d0e46",
   "metadata": {},
   "source": [
    "# Inference:\n",
    "1) Correlation between item_price and transaction_amount is moderately positively correlated.\n",
    "2) Correlation between quantity and transaction_amount is highly positively correlated.\n",
    "3) No correlation between item_price and quantity."
   ]
  },
  {
   "cell_type": "code",
   "execution_count": 61,
   "id": "60cdc340",
   "metadata": {},
   "outputs": [
    {
     "data": {
      "text/html": [
       "<div>\n",
       "<style scoped>\n",
       "    .dataframe tbody tr th:only-of-type {\n",
       "        vertical-align: middle;\n",
       "    }\n",
       "\n",
       "    .dataframe tbody tr th {\n",
       "        vertical-align: top;\n",
       "    }\n",
       "\n",
       "    .dataframe thead th {\n",
       "        text-align: right;\n",
       "    }\n",
       "</style>\n",
       "<table border=\"1\" class=\"dataframe\">\n",
       "  <thead>\n",
       "    <tr style=\"text-align: right;\">\n",
       "      <th></th>\n",
       "      <th>order_id</th>\n",
       "      <th>item_price</th>\n",
       "      <th>quantity</th>\n",
       "      <th>transaction_amount</th>\n",
       "    </tr>\n",
       "  </thead>\n",
       "  <tbody>\n",
       "    <tr>\n",
       "      <th>order_id</th>\n",
       "      <td>83416.666667</td>\n",
       "      <td>159.577077</td>\n",
       "      <td>13.185185</td>\n",
       "      <td>2595.785786</td>\n",
       "    </tr>\n",
       "    <tr>\n",
       "      <th>item_price</th>\n",
       "      <td>159.577077</td>\n",
       "      <td>222.658433</td>\n",
       "      <td>3.316286</td>\n",
       "      <td>1943.606156</td>\n",
       "    </tr>\n",
       "    <tr>\n",
       "      <th>quantity</th>\n",
       "      <td>13.185185</td>\n",
       "      <td>3.316286</td>\n",
       "      <td>19.475231</td>\n",
       "      <td>660.122863</td>\n",
       "    </tr>\n",
       "    <tr>\n",
       "      <th>transaction_amount</th>\n",
       "      <td>2595.785786</td>\n",
       "      <td>1943.606156</td>\n",
       "      <td>660.122863</td>\n",
       "      <td>41780.577678</td>\n",
       "    </tr>\n",
       "  </tbody>\n",
       "</table>\n",
       "</div>"
      ],
      "text/plain": [
       "                        order_id   item_price    quantity  transaction_amount\n",
       "order_id            83416.666667   159.577077   13.185185         2595.785786\n",
       "item_price            159.577077   222.658433    3.316286         1943.606156\n",
       "quantity               13.185185     3.316286   19.475231          660.122863\n",
       "transaction_amount   2595.785786  1943.606156  660.122863        41780.577678"
      ]
     },
     "execution_count": 61,
     "metadata": {},
     "output_type": "execute_result"
    }
   ],
   "source": [
    "df[num_col].cov()"
   ]
  },
  {
   "cell_type": "code",
   "execution_count": null,
   "id": "a3fda10c",
   "metadata": {},
   "outputs": [],
   "source": []
  },
  {
   "cell_type": "code",
   "execution_count": null,
   "id": "d1c0f861",
   "metadata": {},
   "outputs": [],
   "source": []
  }
 ],
 "metadata": {
  "kernelspec": {
   "display_name": "Python 3 (ipykernel)",
   "language": "python",
   "name": "python3"
  },
  "language_info": {
   "codemirror_mode": {
    "name": "ipython",
    "version": 3
   },
   "file_extension": ".py",
   "mimetype": "text/x-python",
   "name": "python",
   "nbconvert_exporter": "python",
   "pygments_lexer": "ipython3",
   "version": "3.10.9"
  }
 },
 "nbformat": 4,
 "nbformat_minor": 5
}
